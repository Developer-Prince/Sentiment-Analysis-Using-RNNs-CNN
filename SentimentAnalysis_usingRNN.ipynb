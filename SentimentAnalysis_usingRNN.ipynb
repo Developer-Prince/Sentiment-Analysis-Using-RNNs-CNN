{
  "nbformat": 4,
  "nbformat_minor": 0,
  "metadata": {
    "colab": {
      "name": "SentimentAnalysis_usingRNN.ipynb",
      "provenance": [],
      "collapsed_sections": [],
      "machine_shape": "hm"
    },
    "kernelspec": {
      "name": "python3",
      "display_name": "Python 3"
    },
    "language_info": {
      "name": "python"
    }
  },
  "cells": [
    {
      "cell_type": "markdown",
      "metadata": {
        "id": "sHa6HK3_XO4V"
      },
      "source": [
        "\n",
        "# Problem Statement:\n",
        "we have extracted tweets from customers about various tech firms who manufacture and sell mobiles, computers , laptops, etc the task is to identify if the tweets have a negative sentiment towards such companies or products\n",
        "\n",
        "## About Dataset\n",
        "we have trian and text dataset. Train data set has both input and output variable.\n",
        "we need to classify the tweeta in test dataset.\n",
        "\n",
        "Number of observations in Train Set : 7,920\n",
        "Number of observations in Test Set : 1,953\n",
        "\n",
        "## Data Download\n",
        "\n",
        "You can download the dataset from our[DataHack Problem](https://datahack.analyticsvidhya.com/contest/practice-problem-identify-the-sentiments/)\n",
        "\n",
        "## My Approch to the problem\n",
        "\n",
        "\n",
        "1.   Pre-Process the data\n",
        "2.   Define the architecture of you model\n",
        "3.   Since it is a binary classification problem. make sure that you use the 'sigmoid' activation funxtion in the output layer\n",
        "4.   Train the model\n",
        "5.   Do the same preprocessing on the test dataset.\n",
        "6.   generate prediction for the test set using trained model\n",
        "7.   save the predictions in the csv file.\n",
        "\n",
        "\n",
        "# Dataset contain \n",
        "0 - Positive\n",
        "1 - Negative"
      ]
    },
    {
      "cell_type": "markdown",
      "metadata": {
        "id": "rucJBd-NZ62j"
      },
      "source": [
        "# 1. Import Libraries and Load Dataset"
      ]
    },
    {
      "cell_type": "code",
      "metadata": {
        "id": "kV4XNvt7uocq"
      },
      "source": [
        "import pandas as pd\n",
        "import numpy as np\n",
        "import matplotlib.pyplot as plt\n",
        "import random\n",
        "import re\n",
        "from sklearn.model_selection import train_test_split\n",
        "from sklearn.metrics import classification_report, f1_score"
      ],
      "execution_count": 117,
      "outputs": []
    },
    {
      "cell_type": "code",
      "metadata": {
        "id": "_o8-3Jyju6MU"
      },
      "source": [
        "train = pd.read_csv(\"/content/drive/MyDrive/RNN ASSIGNMENT DATASET/train_2kmZucJ.csv\")\n",
        "test = pd.read_csv(\"/content/drive/MyDrive/RNN ASSIGNMENT DATASET/test_12QyDcx.csv\")\n",
        "sample = pd.read_csv(\"/content/drive/MyDrive/RNN ASSIGNMENT DATASET/sample_submission_LnhVWA4.csv\")"
      ],
      "execution_count": 118,
      "outputs": []
    },
    {
      "cell_type": "code",
      "metadata": {
        "colab": {
          "base_uri": "https://localhost:8080/",
          "height": 202
        },
        "id": "2blOycFkv6ex",
        "outputId": "9807a41e-a979-48f5-f372-ee6409a193ff"
      },
      "source": [
        "train.head()"
      ],
      "execution_count": 119,
      "outputs": [
        {
          "output_type": "execute_result",
          "data": {
            "text/html": [
              "<div>\n",
              "<style scoped>\n",
              "    .dataframe tbody tr th:only-of-type {\n",
              "        vertical-align: middle;\n",
              "    }\n",
              "\n",
              "    .dataframe tbody tr th {\n",
              "        vertical-align: top;\n",
              "    }\n",
              "\n",
              "    .dataframe thead th {\n",
              "        text-align: right;\n",
              "    }\n",
              "</style>\n",
              "<table border=\"1\" class=\"dataframe\">\n",
              "  <thead>\n",
              "    <tr style=\"text-align: right;\">\n",
              "      <th></th>\n",
              "      <th>id</th>\n",
              "      <th>label</th>\n",
              "      <th>tweet</th>\n",
              "    </tr>\n",
              "  </thead>\n",
              "  <tbody>\n",
              "    <tr>\n",
              "      <th>0</th>\n",
              "      <td>1</td>\n",
              "      <td>0</td>\n",
              "      <td>#fingerprint #Pregnancy Test https://goo.gl/h1...</td>\n",
              "    </tr>\n",
              "    <tr>\n",
              "      <th>1</th>\n",
              "      <td>2</td>\n",
              "      <td>0</td>\n",
              "      <td>Finally a transparant silicon case ^^ Thanks t...</td>\n",
              "    </tr>\n",
              "    <tr>\n",
              "      <th>2</th>\n",
              "      <td>3</td>\n",
              "      <td>0</td>\n",
              "      <td>We love this! Would you go? #talk #makememorie...</td>\n",
              "    </tr>\n",
              "    <tr>\n",
              "      <th>3</th>\n",
              "      <td>4</td>\n",
              "      <td>0</td>\n",
              "      <td>I'm wired I know I'm George I was made that wa...</td>\n",
              "    </tr>\n",
              "    <tr>\n",
              "      <th>4</th>\n",
              "      <td>5</td>\n",
              "      <td>1</td>\n",
              "      <td>What amazing service! Apple won't even talk to...</td>\n",
              "    </tr>\n",
              "  </tbody>\n",
              "</table>\n",
              "</div>"
            ],
            "text/plain": [
              "   id  label                                              tweet\n",
              "0   1      0  #fingerprint #Pregnancy Test https://goo.gl/h1...\n",
              "1   2      0  Finally a transparant silicon case ^^ Thanks t...\n",
              "2   3      0  We love this! Would you go? #talk #makememorie...\n",
              "3   4      0  I'm wired I know I'm George I was made that wa...\n",
              "4   5      1  What amazing service! Apple won't even talk to..."
            ]
          },
          "metadata": {
            "tags": []
          },
          "execution_count": 119
        }
      ]
    },
    {
      "cell_type": "code",
      "metadata": {
        "colab": {
          "base_uri": "https://localhost:8080/",
          "height": 35
        },
        "id": "oz0_x6EP4Lpl",
        "outputId": "0bc052e7-6f2a-40c5-b8f8-e67e1cafbc98"
      },
      "source": [
        "train.iloc[0,2]"
      ],
      "execution_count": 120,
      "outputs": [
        {
          "output_type": "execute_result",
          "data": {
            "application/vnd.google.colaboratory.intrinsic+json": {
              "type": "string"
            },
            "text/plain": [
              "'#fingerprint #Pregnancy Test https://goo.gl/h1MfQV #android #apps #beautiful #cute #health #igers #iphoneonly #iphonesia #iphone'"
            ]
          },
          "metadata": {
            "tags": []
          },
          "execution_count": 120
        }
      ]
    },
    {
      "cell_type": "code",
      "metadata": {
        "colab": {
          "base_uri": "https://localhost:8080/"
        },
        "id": "4KCnK8NOv78q",
        "outputId": "627c72b3-36ae-4f51-b538-9355e0ac99a6"
      },
      "source": [
        "train['tweet'].sample(10)"
      ],
      "execution_count": 121,
      "outputs": [
        {
          "output_type": "execute_result",
          "data": {
            "text/plain": [
              "3747    Smile!!! #asian #filipina #pinay #picstich #fa...\n",
              "3360    #Apple says you can't give away #iPhone or #iP...\n",
              "1329    • new baby • #amazing #best #beautiful #iPhone...\n",
              "5122    New #Coffee Instagram by @estradafx #instaself...\n",
              "791     Shot on iPhone X . . #iphone #apple #iphonex #...\n",
              "943     After my trial of #Apple #iPhone I will not be...\n",
              "1289    Why is there always a new version of iTunes to...\n",
              "3614    I'm inlove with this Family. #Apple-Family. ne...\n",
              "5079    New wallpapers #wall #wallpaper #home #galaxy ...\n",
              "6004    Ils sont content . #LizardSquad #PSN #XBOXLIVE...\n",
              "Name: tweet, dtype: object"
            ]
          },
          "metadata": {
            "tags": []
          },
          "execution_count": 121
        }
      ]
    },
    {
      "cell_type": "markdown",
      "metadata": {
        "id": "H4ZnFVFfaRv3"
      },
      "source": [
        "# 2. Preprocess the data"
      ]
    },
    {
      "cell_type": "code",
      "metadata": {
        "id": "Or_Py7TH8bvN"
      },
      "source": [
        "def cleaner(text):\n",
        "    text = re.sub(r'http?s://[a-zA-Z0-9_.]+','',text)\n",
        "    text = re.sub(r'@[a-zA-Z]+',' ',text)\n",
        "    text = re.sub(r'[^a-zA-Z]',' ',text)\n",
        "    text = text.lower()\n",
        "    token = text.split()\n",
        "    return \" \".join(token)"
      ],
      "execution_count": 122,
      "outputs": []
    },
    {
      "cell_type": "code",
      "metadata": {
        "id": "_8DRfj-LCGFc"
      },
      "source": [
        "train['clean_tweet'] = train['tweet'].apply(cleaner)"
      ],
      "execution_count": 123,
      "outputs": []
    },
    {
      "cell_type": "code",
      "metadata": {
        "colab": {
          "base_uri": "https://localhost:8080/",
          "height": 202
        },
        "id": "jKtKIRtaCNKJ",
        "outputId": "d140aa6c-4270-49ce-fc3b-cf09a69f6043"
      },
      "source": [
        "train.head()"
      ],
      "execution_count": 124,
      "outputs": [
        {
          "output_type": "execute_result",
          "data": {
            "text/html": [
              "<div>\n",
              "<style scoped>\n",
              "    .dataframe tbody tr th:only-of-type {\n",
              "        vertical-align: middle;\n",
              "    }\n",
              "\n",
              "    .dataframe tbody tr th {\n",
              "        vertical-align: top;\n",
              "    }\n",
              "\n",
              "    .dataframe thead th {\n",
              "        text-align: right;\n",
              "    }\n",
              "</style>\n",
              "<table border=\"1\" class=\"dataframe\">\n",
              "  <thead>\n",
              "    <tr style=\"text-align: right;\">\n",
              "      <th></th>\n",
              "      <th>id</th>\n",
              "      <th>label</th>\n",
              "      <th>tweet</th>\n",
              "      <th>clean_tweet</th>\n",
              "    </tr>\n",
              "  </thead>\n",
              "  <tbody>\n",
              "    <tr>\n",
              "      <th>0</th>\n",
              "      <td>1</td>\n",
              "      <td>0</td>\n",
              "      <td>#fingerprint #Pregnancy Test https://goo.gl/h1...</td>\n",
              "      <td>fingerprint pregnancy test h mfqv android apps...</td>\n",
              "    </tr>\n",
              "    <tr>\n",
              "      <th>1</th>\n",
              "      <td>2</td>\n",
              "      <td>0</td>\n",
              "      <td>Finally a transparant silicon case ^^ Thanks t...</td>\n",
              "      <td>finally a transparant silicon case thanks to m...</td>\n",
              "    </tr>\n",
              "    <tr>\n",
              "      <th>2</th>\n",
              "      <td>3</td>\n",
              "      <td>0</td>\n",
              "      <td>We love this! Would you go? #talk #makememorie...</td>\n",
              "      <td>we love this would you go talk makememories un...</td>\n",
              "    </tr>\n",
              "    <tr>\n",
              "      <th>3</th>\n",
              "      <td>4</td>\n",
              "      <td>0</td>\n",
              "      <td>I'm wired I know I'm George I was made that wa...</td>\n",
              "      <td>i m wired i know i m george i was made that wa...</td>\n",
              "    </tr>\n",
              "    <tr>\n",
              "      <th>4</th>\n",
              "      <td>5</td>\n",
              "      <td>1</td>\n",
              "      <td>What amazing service! Apple won't even talk to...</td>\n",
              "      <td>what amazing service apple won t even talk to ...</td>\n",
              "    </tr>\n",
              "  </tbody>\n",
              "</table>\n",
              "</div>"
            ],
            "text/plain": [
              "   id  ...                                        clean_tweet\n",
              "0   1  ...  fingerprint pregnancy test h mfqv android apps...\n",
              "1   2  ...  finally a transparant silicon case thanks to m...\n",
              "2   3  ...  we love this would you go talk makememories un...\n",
              "3   4  ...  i m wired i know i m george i was made that wa...\n",
              "4   5  ...  what amazing service apple won t even talk to ...\n",
              "\n",
              "[5 rows x 4 columns]"
            ]
          },
          "metadata": {
            "tags": []
          },
          "execution_count": 124
        }
      ]
    },
    {
      "cell_type": "code",
      "metadata": {
        "colab": {
          "base_uri": "https://localhost:8080/"
        },
        "id": "yDg7XuLeC54L",
        "outputId": "dd3eff95-59c6-4bab-b359-8cf7fec53784"
      },
      "source": [
        "train.shape"
      ],
      "execution_count": 125,
      "outputs": [
        {
          "output_type": "execute_result",
          "data": {
            "text/plain": [
              "(7920, 4)"
            ]
          },
          "metadata": {
            "tags": []
          },
          "execution_count": 125
        }
      ]
    },
    {
      "cell_type": "code",
      "metadata": {
        "colab": {
          "base_uri": "https://localhost:8080/",
          "height": 202
        },
        "id": "u2s-odk4DIY-",
        "outputId": "8a81ee72-1690-4627-893f-a33706031ca6"
      },
      "source": [
        "# check the test set\n",
        "test.head()"
      ],
      "execution_count": 126,
      "outputs": [
        {
          "output_type": "execute_result",
          "data": {
            "text/html": [
              "<div>\n",
              "<style scoped>\n",
              "    .dataframe tbody tr th:only-of-type {\n",
              "        vertical-align: middle;\n",
              "    }\n",
              "\n",
              "    .dataframe tbody tr th {\n",
              "        vertical-align: top;\n",
              "    }\n",
              "\n",
              "    .dataframe thead th {\n",
              "        text-align: right;\n",
              "    }\n",
              "</style>\n",
              "<table border=\"1\" class=\"dataframe\">\n",
              "  <thead>\n",
              "    <tr style=\"text-align: right;\">\n",
              "      <th></th>\n",
              "      <th>id</th>\n",
              "      <th>tweet</th>\n",
              "    </tr>\n",
              "  </thead>\n",
              "  <tbody>\n",
              "    <tr>\n",
              "      <th>0</th>\n",
              "      <td>7921</td>\n",
              "      <td>I hate the new #iphone upgrade. Won't let me d...</td>\n",
              "    </tr>\n",
              "    <tr>\n",
              "      <th>1</th>\n",
              "      <td>7922</td>\n",
              "      <td>currently shitting my fucking pants. #apple #i...</td>\n",
              "    </tr>\n",
              "    <tr>\n",
              "      <th>2</th>\n",
              "      <td>7923</td>\n",
              "      <td>I'd like to puts some CD-ROMS on my iPad, is t...</td>\n",
              "    </tr>\n",
              "    <tr>\n",
              "      <th>3</th>\n",
              "      <td>7924</td>\n",
              "      <td>My ipod is officially dead. I lost all my pict...</td>\n",
              "    </tr>\n",
              "    <tr>\n",
              "      <th>4</th>\n",
              "      <td>7925</td>\n",
              "      <td>Been fighting iTunes all night! I only want th...</td>\n",
              "    </tr>\n",
              "  </tbody>\n",
              "</table>\n",
              "</div>"
            ],
            "text/plain": [
              "     id                                              tweet\n",
              "0  7921  I hate the new #iphone upgrade. Won't let me d...\n",
              "1  7922  currently shitting my fucking pants. #apple #i...\n",
              "2  7923  I'd like to puts some CD-ROMS on my iPad, is t...\n",
              "3  7924  My ipod is officially dead. I lost all my pict...\n",
              "4  7925  Been fighting iTunes all night! I only want th..."
            ]
          },
          "metadata": {
            "tags": []
          },
          "execution_count": 126
        }
      ]
    },
    {
      "cell_type": "code",
      "metadata": {
        "colab": {
          "base_uri": "https://localhost:8080/",
          "height": 202
        },
        "id": "AuU6G_tJDM0O",
        "outputId": "27a8a527-173c-4fe7-d790-5827769b6523"
      },
      "source": [
        "# sample\n",
        "sample.head()"
      ],
      "execution_count": 127,
      "outputs": [
        {
          "output_type": "execute_result",
          "data": {
            "text/html": [
              "<div>\n",
              "<style scoped>\n",
              "    .dataframe tbody tr th:only-of-type {\n",
              "        vertical-align: middle;\n",
              "    }\n",
              "\n",
              "    .dataframe tbody tr th {\n",
              "        vertical-align: top;\n",
              "    }\n",
              "\n",
              "    .dataframe thead th {\n",
              "        text-align: right;\n",
              "    }\n",
              "</style>\n",
              "<table border=\"1\" class=\"dataframe\">\n",
              "  <thead>\n",
              "    <tr style=\"text-align: right;\">\n",
              "      <th></th>\n",
              "      <th>id</th>\n",
              "      <th>label</th>\n",
              "    </tr>\n",
              "  </thead>\n",
              "  <tbody>\n",
              "    <tr>\n",
              "      <th>0</th>\n",
              "      <td>7921</td>\n",
              "      <td>0</td>\n",
              "    </tr>\n",
              "    <tr>\n",
              "      <th>1</th>\n",
              "      <td>7922</td>\n",
              "      <td>0</td>\n",
              "    </tr>\n",
              "    <tr>\n",
              "      <th>2</th>\n",
              "      <td>7923</td>\n",
              "      <td>0</td>\n",
              "    </tr>\n",
              "    <tr>\n",
              "      <th>3</th>\n",
              "      <td>7924</td>\n",
              "      <td>0</td>\n",
              "    </tr>\n",
              "    <tr>\n",
              "      <th>4</th>\n",
              "      <td>7925</td>\n",
              "      <td>0</td>\n",
              "    </tr>\n",
              "  </tbody>\n",
              "</table>\n",
              "</div>"
            ],
            "text/plain": [
              "     id  label\n",
              "0  7921      0\n",
              "1  7922      0\n",
              "2  7923      0\n",
              "3  7924      0\n",
              "4  7925      0"
            ]
          },
          "metadata": {
            "tags": []
          },
          "execution_count": 127
        }
      ]
    },
    {
      "cell_type": "code",
      "metadata": {
        "colab": {
          "base_uri": "https://localhost:8080/",
          "height": 202
        },
        "id": "m6BaotOJGPto",
        "outputId": "18271e70-e28f-476d-ce55-9d2d21e62c0e"
      },
      "source": [
        "train.head()"
      ],
      "execution_count": 128,
      "outputs": [
        {
          "output_type": "execute_result",
          "data": {
            "text/html": [
              "<div>\n",
              "<style scoped>\n",
              "    .dataframe tbody tr th:only-of-type {\n",
              "        vertical-align: middle;\n",
              "    }\n",
              "\n",
              "    .dataframe tbody tr th {\n",
              "        vertical-align: top;\n",
              "    }\n",
              "\n",
              "    .dataframe thead th {\n",
              "        text-align: right;\n",
              "    }\n",
              "</style>\n",
              "<table border=\"1\" class=\"dataframe\">\n",
              "  <thead>\n",
              "    <tr style=\"text-align: right;\">\n",
              "      <th></th>\n",
              "      <th>id</th>\n",
              "      <th>label</th>\n",
              "      <th>tweet</th>\n",
              "      <th>clean_tweet</th>\n",
              "    </tr>\n",
              "  </thead>\n",
              "  <tbody>\n",
              "    <tr>\n",
              "      <th>0</th>\n",
              "      <td>1</td>\n",
              "      <td>0</td>\n",
              "      <td>#fingerprint #Pregnancy Test https://goo.gl/h1...</td>\n",
              "      <td>fingerprint pregnancy test h mfqv android apps...</td>\n",
              "    </tr>\n",
              "    <tr>\n",
              "      <th>1</th>\n",
              "      <td>2</td>\n",
              "      <td>0</td>\n",
              "      <td>Finally a transparant silicon case ^^ Thanks t...</td>\n",
              "      <td>finally a transparant silicon case thanks to m...</td>\n",
              "    </tr>\n",
              "    <tr>\n",
              "      <th>2</th>\n",
              "      <td>3</td>\n",
              "      <td>0</td>\n",
              "      <td>We love this! Would you go? #talk #makememorie...</td>\n",
              "      <td>we love this would you go talk makememories un...</td>\n",
              "    </tr>\n",
              "    <tr>\n",
              "      <th>3</th>\n",
              "      <td>4</td>\n",
              "      <td>0</td>\n",
              "      <td>I'm wired I know I'm George I was made that wa...</td>\n",
              "      <td>i m wired i know i m george i was made that wa...</td>\n",
              "    </tr>\n",
              "    <tr>\n",
              "      <th>4</th>\n",
              "      <td>5</td>\n",
              "      <td>1</td>\n",
              "      <td>What amazing service! Apple won't even talk to...</td>\n",
              "      <td>what amazing service apple won t even talk to ...</td>\n",
              "    </tr>\n",
              "  </tbody>\n",
              "</table>\n",
              "</div>"
            ],
            "text/plain": [
              "   id  ...                                        clean_tweet\n",
              "0   1  ...  fingerprint pregnancy test h mfqv android apps...\n",
              "1   2  ...  finally a transparant silicon case thanks to m...\n",
              "2   3  ...  we love this would you go talk makememories un...\n",
              "3   4  ...  i m wired i know i m george i was made that wa...\n",
              "4   5  ...  what amazing service apple won t even talk to ...\n",
              "\n",
              "[5 rows x 4 columns]"
            ]
          },
          "metadata": {
            "tags": []
          },
          "execution_count": 128
        }
      ]
    },
    {
      "cell_type": "code",
      "metadata": {
        "id": "LTu765FyGSUC"
      },
      "source": [
        "x = []\n",
        "for i in train['clean_tweet']:\n",
        "    x.append(i)"
      ],
      "execution_count": 129,
      "outputs": []
    },
    {
      "cell_type": "code",
      "metadata": {
        "colab": {
          "base_uri": "https://localhost:8080/"
        },
        "id": "IdpAwWrgGbvn",
        "outputId": "4b6621c8-28ac-4cf0-92d1-17fb56ce8143"
      },
      "source": [
        "x"
      ],
      "execution_count": 130,
      "outputs": [
        {
          "output_type": "execute_result",
          "data": {
            "text/plain": [
              "['fingerprint pregnancy test h mfqv android apps beautiful cute health igers iphoneonly iphonesia iphone',\n",
              " 'finally a transparant silicon case thanks to my uncle yay sony xperia s sonyexperias http instagram com p yget jc jm',\n",
              " 'we love this would you go talk makememories unplug relax iphone smartphone wifi connect http fb me n lsupcu',\n",
              " 'i m wired i know i m george i was made that way iphone cute daventry home http instagr am p li ujs k',\n",
              " 'what amazing service apple won t even talk to me about a question i have unless i pay them for their stupid support',\n",
              " 'iphone software update fucked up my phone big time stupid iphones',\n",
              " 'happy for us instapic instadaily us sony xperia xperiaz p z qgfwlvj',\n",
              " 'new type c charger cable uk http www ebay co uk itm bay amazon etsy new year rob cross toby young evemun mcmafia taylor spectre newyear starting recipes technology samsunggalaxys iphonex pic twitter com pjiwq wtc',\n",
              " 'bout to go shopping again listening to music iphone justme music likeforlike followforfollow http instagr am p vj bg tlql',\n",
              " 'photo fun selfie pool water sony camera picoftheday sun instagood boy cute outdoor http tmblr co zajc n ms gp',\n",
              " 'hey apple when you make a new ipod dont make it a new color or inches thinner make it not crash every five fuckin minite',\n",
              " 'ha not heavy machinery but it does what i need it to really dropped the ball with that design drinkyourhaterade',\n",
              " 'contemplating giving in to the iphone bandwagon simply because cellcom has no new androids depressing idontwantto',\n",
              " 'i just made another crazy purchase lol my theory is work hard play hard lol ipad apple shopping http instagr am p nuyfhvye i',\n",
              " 'louise the battery is so painful i charge it overnight and by lunchtime battery is dead hateorange',\n",
              " 'from deepellum towards downtown dallas bigd saturday rx m sony summer urban http instagram com p pzjooaqqz',\n",
              " 'like and share if you want this d phone case for iphone iphone s index php product new sweet d mineral water bottle love ice cream phone case couples soft silicone rubber case for iphone s plus se pic twitter com gfkn yec j',\n",
              " 'go crazy iphonesia iphone instagood instagram photooftheday tweegram http instagram com p d r sqry b',\n",
              " 'the reason i don t have one iphone suck apple truth truthbetold agree fact realitycheck blackberrypic twitter com zpggd cazn',\n",
              " 'how is the apple store gunna be out of c screens it s monday and ur the fucking apple store fuckingpissed',\n",
              " 'apple art easter dear friends if you would like to be published on my channel design a face on the easter bunny and email it to me as a png thumbnail my email mutita edibleart compic twitter com jhwphfbgt',\n",
              " 'excuse me waiter there seems to be a pie in my soup wife bake an apple pie yay http instagr am p q g jpimn',\n",
              " 'i ve had this new ipod for four days and this of button on the back broke i accidentally hit it once',\n",
              " 'when your iphone screen goes completely black and you keep getting texts all day but you can t fucking check them apple thiphone',\n",
              " 'it s time for new wallpapers phone wallpapers wall screen galaxy samsung app p bcsktnnn c',\n",
              " 'billion for patents where there is prior art millions each patent trolls are partying now thanks to apple apple',\n",
              " 'my ipod is all messed up and i haven t done nothing to it myloss apple',\n",
              " 'my ipod touch is frozen on the apple logo when it starts up if i lose all of demi s music pics i will kill someone soangry hateapple',\n",
              " 'do love a new phone case flower green diamond pearls cute new iphone iphone s case http instagr am p welxefun o',\n",
              " 'must watch youtube subscribe daily vlog twitch gaming fun ps xbox sony games ios android oaxlm r sda',\n",
              " 'thank you samsung live laugh life food philippines instago instahub instagram http instagram com p yxhudzhhfb',\n",
              " 'ch cannon suewee friendship americanbully dog piggies family southerncharm americanidol goals bestfriends pitbull iphonex onelove country muscle nfl worldwide america bigboy thislife tmz wild hoggpic twitter com mn ogpi c',\n",
              " 'instapic by mimmo al feb taken with sony rx direzioneverticale sunset sky beautiful fun pic twitter com cxifijj g',\n",
              " 'i m so happy sister bought me a new phone for early b day gift so happy samsung s',\n",
              " 'just received the samsung note many thanks to phone http instagr am p riqsbabg o',\n",
              " 'is there an app for the android market in the pipeline',\n",
              " 'why can t i delete individual songs from my phone apple itunes',\n",
              " 'everybody be freaking out about ios i m here like duuude even windows phones are more advanced than iphones customization',\n",
              " 'new iphone s and c the s standing for sirri iously bad and the c standing for cheap same screen res same camera tech apple',\n",
              " 'no bull instasize leggings lightskin curlyhair iphone bellypiercing smile potd http instagram com p esxzmizbl',\n",
              " 'if they din t create you don t let them destroy you candid photo iphonex sunday sundayvibes smile always photooftheday eyes me ootd fashion blackandwhite poser attitude lifeisgood mylook mylife photoeveryday lookoftheday latepost mylifepic twitter com mmhcqyad b',\n",
              " 'film set building time lapse video photooftheday beautiful producer live fashion videoproduction cute follow commercial iphone apple actor actress me iphonesia hollywood losangeles picoftheday movies acting startup startupvideos shotoniphonpic twitter com eceiaine',\n",
              " 'my new phone cupcakes wallpaper pink cute sweet samsung cherries http instagram com p xhroikktlp',\n",
              " 'eeeeee sexy ladies live iphone iphonesia instagood photooftheday tweegram iphon http instagr am p rbxwmdnv h',\n",
              " 'acquisto del week end iphone iphone plus apple gril moment italy p bzy xcxh qv',\n",
              " 'majestic we see it differently photography nature landscape forest hidden clearing view woods tree travel biker sony a ziess photo instgramhub picoftheday p bkvrsqjg tn utm source ig twitter share igshid soka bd sb h',\n",
              " 'google apple so cut the itunes and get with the program',\n",
              " 'ahhhh look what i got for christmas an iphone apple christmas girl http instagr am p bdvcq',\n",
              " 'do you love me like love instacool photooftheday iphone instago food followforfollow likes http fb me tnxfdk',\n",
              " 'follow me as i play bitcoinboy for the iphone ipad ipod free game fun kansas georgia http instagram com p m ssn kapx',\n",
              " 'would my new talking antoine iphone app check it out now in the us ent appstore http barkbarkco weebly com talking antoine html',\n",
              " 'all at once joy peace reflect remember sky cloud cloudhub skyhub tree gr iphone http instagr am p vj fqyanc',\n",
              " 'love you baby boy baby boy babyboy muesli hedgehog pet him iphone iphone p bz dwxjampt',\n",
              " 'inbox letters to the editor news photography fashion health fail tech ipad iphone funny lolpic twitter com ik rhumovz',\n",
              " 'thinner faster amazing i hated ipad and will be getting one so ye',\n",
              " 'i like tablets but personally i have no use for it so in that sense im not a fan but i think its quite a gd product',\n",
              " 'why is black friday called black friday news business why is black friday called black friday blackfridaydeals blackfriday blackfriday news amazon shopping shop christmas holidays gifts family friends newyork business crowds money birthday tv iphone computer lifehacks school',\n",
              " 'are you seriously so afraid of your profit going into someone else s pocket that you make it to where other chargers aren t supported my phone is at and my pos apple charger broke a month after getting the phone good job apple you',\n",
              " 'not having a phone is actually killing me and i am not paying for a replacement',\n",
              " 'can t agree more that s why i m still programmed in basic rt lovescudi apple sucks droid',\n",
              " 'wait what double check what you just saw alyssa me fun camera iphone h cool picture l http instagr am p urheizynkc',\n",
              " 'the cycle of life is complete froot apple run dog sun beach sport health p zkg tkpug',\n",
              " 'that s a bit hypocritical to use the hashtag apple yet be quivering in anticipation for the arrival of your new phone',\n",
              " 'gain followers rt this must follow me i follow back follow everyone who rts gain iphone sougofollow ff i si',\n",
              " 'geometry iphoneography iphoneonly iphoneography streetphotography iphonephotography mobilephotography mobile iphone apple colors bright p bl wqpuf n utm source ig twitter share igshid quadeby r ec',\n",
              " 'iphone users have more http bit ly cuy le fettish phone mobile iphone sexy technology techno indie dating okcupid',\n",
              " 'photo can i love you less no pink iphone random instamood photography loljk http tmblr co z txiw vjql',\n",
              " 'shine bright like wine amazing beautiful copenhagen creative composer denmark fun f f hot iconic keepthefaith l l mariajensen music original pop producer red rock soul singer songwriter song universal sony warnerpic twitter com gbeusyed m',\n",
              " 'samsung galaxy my wedding dvd which i thought i d lost days',\n",
              " 'rt meliiecandy apple ipadmini soldes instamoment planeteig new baby or instasize p baniubthwgk',\n",
              " 'that feeling when your broken phone s screen is being replaced iphone happiness pic twitter com ygsuke ces',\n",
              " 'be the light for my way please lamp light photooftheday instagood life pekanbaru riau indonesia photography streetphotography sony a sonya p bkqbe gg d utm source ig twitter share igshid g cumgyriqbc',\n",
              " 'new acquisition iphone s gold apple it phone brussels potd picoftheday http instagram com p zs nfenq h',\n",
              " 'if i havent texted back my phone reset after work again sorry iphone',\n",
              " 'happy sunday samsung phone smile inception white tea chilling http instagram com p lclty s pd',\n",
              " 'carcasa clear cover para samsung grandprime felizdomingo samsunggalaxy g felizlunes felizsemana oct oct felizmartespic twitter com xtldsjwpz',\n",
              " 'apple s mighty mouse came with lithium aa s apple s magic mouse comes with alkaline aa s the magic mouse is more apple',\n",
              " 'followsunday followback rt teamfollowback follow retweet iphone keep doing ya thing',\n",
              " 'i m not happy at all with i ve had my tumble dryer for months it s been replaced already and the same problem has occurred again iwant this issue resolved and want to be able to return this product back to samsung im not',\n",
              " 'retweet a sll sony sonya s throwback shoot blury nature pic photos girl smile art pic twitter com btew b kx',\n",
              " 'call it the apple phone and put an absurd price on it and you have the new apple device tech',\n",
              " 'commonwealth games skye nicolson wins boxing gold in memory of her dead brothers commonwealth games adaptive galatasaray iherborder samsung presidenttrump commonwealth games skye nicolson wins boxing gold in memory of her dead brothers commonwealth games',\n",
              " 'oh dear no joy for the new iphone any good comment about it is just lip service win getalife apple tecshit',\n",
              " 'love it finally enjoying my game ps tombraider laracroft playstation samsung gamer http instagram com p kwljdvl ua',\n",
              " 'the hunger games in the simpsons simpsons thehungergames iphone instagram apple always http instagr am p raufmlac m',\n",
              " 'apple called and made something wrong right today makes me thank you',\n",
              " 'new item recommends iphone apple earphone earpods white lifestyle amazing http instagram com p eskd dlzmu',\n",
              " 'fuckyou apple and your never ending bugs it s not like i payed bucks for my phone how about a little quality here anotherangrycustomer',\n",
              " 'what a cute girlfriend happy one year love you gf bf card cute sony xperia z soppy http instagram com p ylrdyhmxi',\n",
              " 'my birthday present from mom apple macbookpro macbook birthday stockholm sweden compute http instagr am p m b jej zk',\n",
              " 'photo quote of the day quotes wisdom words smile follow tweetgram me cute iphone fashion http tmblr co zsf etoeel f',\n",
              " 'have to applaud samsung sheffield store for customer service great service and quality repair all done in a few hour',\n",
              " 'just lost everything due to the freaking iphone update that put it in recovery mode',\n",
              " 'your apple hater yousuck briantong easytotalk producesomething is a usa company korean samsung fan loser',\n",
              " 'thanks for working on your servers all day sony what dumb scheduled maintenance today sony http instagram com p xdkdtmllhl',\n",
              " 'new models byhilalak earphones urbanears handmade hayatinarenkkat iphone sony p baah ogrpkh',\n",
              " 'photo itunes vicio nellyfurtado nelstar playingnow iphoneonly iphone diva cds http tmblr co ztrtdv ydf',\n",
              " 'see how many features you didn t know your iphone had http bit ly nutukg iphone yourtechcompany pic twitter com hs iza y',\n",
              " 'happiness in a box yey me phone sony xperia sonyxperiaz new blessed http instagram com p exaj tlosm',\n",
              " 'feliz s bado con caf saturday with coffee and pantry iphonex p blnydyyn rh utm source ig twitter share igshid aby xrg o a',\n",
              " 'dreamy effect created straight from the iphone impressive spring flower blossom http instagram com p tpogyugzze',\n",
              " 'finalllllly my note is here note samsung galaxy galaxynote awsome beamman best http instagram com p x mtijq lu',\n",
              " 'special app for valentine us app love id mt fashion nowplaying daughter poem valentine iphone',\n",
              " 'photo of the day erie pa car sign iloveyou blackandwhite streetphotography iphone erie pa http instagr am p jrdvj',\n",
              " 'lunch in the park apple carrot banana and my lovely dogs trees autumn leaves p bmweoi bbqg',\n",
              " 'not on my iphone the confession app when we spend more time confessing our faith we need less time confessing our sins him to much',\n",
              " 'day p s i love you iphone photography book flickr http flic kr p jthk',\n",
              " 'hey apple i just want to say fuck u and ur new update it took hours to download and i hate this apple ios',\n",
              " 'photo sunset westcoast iphone taken with instagram at huntington dog beach http tmblr co zjccsxgkygn',\n",
              " 'just added myself to the http wefollow com twitter directory under new york ny iphone fun education mom',\n",
              " 'iphones are a for losin phone reception got texts n missed calls in the last mins',\n",
              " 'the day has come thanks to jump i can finally get rid of my iphone and get my samsung note i absolutely love tmobile',\n",
              " 'get a taste of frank ocean s new http dlvr it lyqjtp news photography fashion health fail tech ipad iphone funny lol',\n",
              " 'so annoying when you finish all the levels of where s my water but you have to buy the full version apple',\n",
              " 'nothing you wear is more important than your smile smile quotes mood girl boss blog life style amazing quote wcw wce bestoftheday cute pretty beautiful sexy fashion babe samsung wednesday funpic twitter com ggnuvxbv',\n",
              " 'send them as texts i had to turn my imessage off',\n",
              " 'fanta apple fanta is delish sunday sundayfunday healing with a not so p bfcyrndvbb',\n",
              " 'she won t sleep no other way but on my lap babygirl popular iphonesia iphone iphone babygirl ios http instagr am p xuunu',\n",
              " 'she s so loverly tweet rabbitsofinstagram bunniesofinstagram rabbit hop bounce charlie houserabbit bunnylove rabbitsofig shotoniphone apple iphone plus photography photographer family chuck charles idypb pic twitter com gpw nfuzwh',\n",
              " 'my new iphone case happy valentine s day iphone case less lucien swarovski crystal pink http instagr am p g cdiorcd',\n",
              " 'photo vegan glutenfree apple pie day at silly sally s pop up diner http tmblr co zyuirs wadbou',\n",
              " 'technology is so advanced these days but after syncing my ipod i only hear seconds of each mmlp song fml',\n",
              " 'sweet iphone sweet phone iphone apple candy fun cute beatiful beaty gold good nice photo fo http vk cc jm tb',\n",
              " 'wait over finally in hand iphonex iphonex iphone spacegray gb apple pic twitter com ogo gkeopw',\n",
              " 'unpacking sony xperia z compact android really really nice first impression http ow ly xc zx pic twitter com blo b osu',\n",
              " 'progress bar is car key long will give another hour if still car key will cold boot fear it ll be dead',\n",
              " 'when siri doesnt understand commands lol beautiful funny nephew all shots iphone igers siri http instagr am p s fopgbmrt',\n",
              " 'endless love instagram instagood instadaily instahub instagood photoofthaday iphone iphone d http instagr am p s omtqk a',\n",
              " 'i will literally cry if i have lost all my contacts again',\n",
              " 'that looks great i wonder a when it will be available in uk b how it compares to apple s cloud',\n",
              " 'al fiiiiin laptop sony vaio white black case minnie beautiful inlove http instagram com p xlclaievxt',\n",
              " 'dear blackberry occasionally the best fruit falls from the tree don t worry thou it will soon be the best fruit again',\n",
              " 'username splinkio http curry stagram tk thai curry yum food it with iphone iphoneonly iphoneography for picoft',\n",
              " 'yosemite you are a steep hill to climb with my mac having a kernel issue for hour but now you serve me very well apple updates',\n",
              " 'another fuckyou to sony ps with the health warning display upon boot up',\n",
              " 'shesh up you told ya to stop killing my mojo p',\n",
              " 'spend like three hours finally get all my things ship to my new phone selfie with samsung p va yzwy',\n",
              " 'this advertisement for new samsung galaxy gear vr is well made commercial feeling watch v mn jfwo eu feature share',\n",
              " 'lost all pictures and everything on my phone from the past year sodepressed samsunggalaxyftw loljk',\n",
              " 'check out jewish american singles free paid memberships available http ow ly z vk jewish singles iphone app too',\n",
              " 'follow on instagram http mf tt soajg sup surf fun capetown funny sexy me samsung pic twitter com oz d xt',\n",
              " 'final cut pro trial doesn t work with yosemite aarrrggghhhh fail again makingmylifesodifficultpic twitter com lzs zgi sb',\n",
              " 'really apple just delete the half downloaded el capitan on the first mistake usefuckingtorrent',\n",
              " 'hooray my stuff arrived excited case android samsung galaxy today open now http instagram com p pfteojwqw',\n",
              " 'i really need a new iphone charger both of mine spaz and short out constantly and it pisses me off like no other apple iphones',\n",
              " 'my phone is officially broken i can hear it go off but the screen doesn t work the keyboard is okay though samsung',\n",
              " 'if i have enough money then i will challenge us jury for their decision with simple ans of mine apple',\n",
              " 'golden state warriors photooftheday me instadaily like iphone follow colorful style http instagram com p x rz vltw',\n",
              " 're installing itunes for the th time this week because it refuses to sync my phone',\n",
              " 'slept with my new iphone last night i m in love iphone atlast',\n",
              " 'father and son samsung live laugh life instago instahub instamood instagood http instagram com p e j khhk',\n",
              " 'happy bday jj bday jj crazyfriend iphone party lb l l likeall likeback p wkf obkbd',\n",
              " 'pic of the day quotes wisdom words smile follow ortho me cute iphone fashion makeup braces http fb me z wjtvhy',\n",
              " 'want to love match with your iphone buy lovematcher http itun es ify wz iphone',\n",
              " 'nice one valentinesday playstationasia ad ps february playstation sony gamers college http instagram com p yzghrgmilt',\n",
              " 'portrait me myself and i shot with sonya sonyalpha sonycamera sony sony mm mm dof bokeh market markt hemd schwarz blacknwhite blackandwhite grey smile p bmvdw ije g utm source ig twitter share igshid sk n sz rvku',\n",
              " 'hacker wifi password fnvsfj android apps beautiful cute colors igers iphoneonly iphone',\n",
              " 'extra zoom to videos vicmvz android apps beautiful cute colors igers iphoneonly iphone',\n",
              " 'my phone just deleted every single one of my contacts random apple',\n",
              " 'i love my new baby ipod music apple itunes gold p bhamapkj n',\n",
              " 'am i the only one tyrannical reign of apple is over fucking cultists',\n",
              " 'followers thanks to all y all inkstagram iphone instagram addiction wordphoto http instagr am p ium o yprg rt dot roche',\n",
              " 'the prophet as a husband iphone http ift tt bor kb android http ift tt asurcj kindle book february a',\n",
              " 'upgraded s to iphone apple iphone iphone instadaily instagramers instalike p bk ye blru',\n",
              " 'help deliver happiness to children http bit ly c vihd malaysia uai samsung sony toyota',\n",
              " 'there s something wrong if you charge your phone at least three times a day getbetterbatteries',\n",
              " 'my new samsung galaxy tab is like a real b tablet smile',\n",
              " 'santa has visited my wife earlier this year to see her iphoneonly iphone sweden p qujdfqb s',\n",
              " 'hi world old photo followme like likes good dog solodivertimento samsung p rqvnhoa l',\n",
              " 'marques gray swag swagger sky dog cat iphone new followme edit sick paint minnesota gopherspic twitter com i ldh lxwg',\n",
              " 'geniusbar can suck my tubes after my surgery for this bullshit apple may be a good product but their customercare batteries',\n",
              " 'i am happy ps sony playstation gta fun design white dualshock instaday cool p cr are e',\n",
              " 'holy shitbirds just watched last night s colbertreport that apple presentation for the iwatch was creepy as idk what no',\n",
              " 'book good night relax cool perfect book iphone preguntaleaalicia this instaphoto http instagram com p hz yxkga y',\n",
              " 'photo a prosperous new year to everyone welcome newyear art drawing sketch samsung http tmblr co znnqeq zqeqm',\n",
              " 'just one more blog video girl amazing fashion ootd beautiful samsung swag videoofthedaypic twitter com p ln unh y',\n",
              " 'new iphone os on the g fucking sucks i want to throw my phone against the wall how does the sms app crash apple iphone',\n",
              " 'baby let my love adorn you miguel fan artdealer samsung hospital braids smile http instagram com p cw qb ifgb',\n",
              " 'photo sign peace sign junephotoaday photoadayjune body iphone likeit taken with http tmblr co zw twxmqob g',\n",
              " 'i would just delet all my photos and vids from this concert mylifesajoke',\n",
              " 'lets get you hooked up fast w an iphone u will fall in i promise',\n",
              " 'why does it take me all evening to update two apple devices i hate you itunes and i hate you apple android in the next round apple',\n",
              " 'audi to offer apple and android smartphone integration from http ow ly ywvh',\n",
              " 'just ran to buy an iphone charger in the middle of the night these iphone chargers they iphone apple',\n",
              " 'i haven t used an apple product in over a year some hole has accessed my old account and i can t find way to dispute charges',\n",
              " 'photo pic of the day quotes wisdom words smile follow tweetgram me cute iphone fashion http tmblr co zsf et raem',\n",
              " 'new york baby new york amazing city the big apple summer http instagr am p m p xnjgp',\n",
              " 'chasing pavements a story about friendship family music life destiny and soulmates for kindle nook iphone ipad ipod',\n",
              " 'do you love photography go follow her tweets awesome sunset photography iphone htt',\n",
              " 'like and share if you want this car accessory bag iphone samsung index php product new qualified pc auto car accessory hanging bag drinks phones storage pouch holders levert dropship dig pic twitter com xhwknjqfyh',\n",
              " 'apple you suck every time you update your os you erase my private info and disable the apps i purchase and like that s not a customer friendly approach time to go to android disappointed',\n",
              " 'goodnight dubai sweet dreams life hope joy dubai uae iphone instagram http instagr am p ura vjjs h',\n",
              " 'birthday present came in advance thank you so much apple ipadmini iphone s lucky http instagram com p m phiyruv',\n",
              " 'saturday everyone look in our shop for great deals on dvds bluray vdeogames ps sony playstation http stores shop ebay com lttreasures',\n",
              " 'turkey photography photo travel nature photos landscape photooftheday camera sony pic foto passion behappy pic twitter com mjjnomhpy',\n",
              " 'amigos friends iphonesia iphone instagood instagram photooftheday tweegram http instagram com p b l ban',\n",
              " 'things that make me reading i just my pink ereader from sony and use it nearly http instagram com p rlypkzcmni',\n",
              " 'edm is my life hardwell amor apple avicii acedemy academia b b bogota mac music http instagram com p ztka zd b',\n",
              " 'its been a year and my shuffle on my samsung galaxyfamily is finally doing a real shuffle its like a whole new playlist',\n",
              " 'thank u so much god christian iphone instagram iphonesia pray thanks popularpage http instagr am p xqaqf',\n",
              " 'woohoo finally i get my nx finally camera nx samsung excited nice black peace tha http instagr am p sa b nzddg',\n",
              " 'family family friends beauty fun cuties iphone iphoneisa foreveryoung hookahbar onyx http instagr am p vkkxyhsyk',\n",
              " 'happy my samsung galaxy note got updated with android kitkat version thanks to samsung mobile',\n",
              " 'rt hot deal high tech lightning to usb cable feet for off geek tech bots deals amazon home iphone ipad android samsung galaxy google gadgets gifts ios technews power pc dev pic twitter com ykfpf fixe',\n",
              " 'in looove amazing beautiful copenhagen creative composer denmark fun f f hot iconic keepthefaith l l mariajensen music original pop producer red rock soul singer songwriter song universal sony warner worldpic twitter com jrdwetxbjo',\n",
              " 'too bad doesn t carry any lumia devices but at least i was able to pick up a samsung ativ s neo windowsphone',\n",
              " 'we would like to wish you an amazing day make every minute count tls today iphone accessories news life july at',\n",
              " 'my ipads new home ipad leopardprint neon ipad apple http instagram com p hqkb ssujl',\n",
              " 'my iphone apps i can listen to drive time hip hop from nyc whilst peeling potatoes in my kitchen',\n",
              " 'dissatisfied apple iphone splus not for runners it has issues with filter in camera sweat through incasearmband',\n",
              " 'he loves the fuck outta me imessage iphone text gay hesa http instagram com p aitqo r la',\n",
              " 'she is as ready as i am to do this chromebook samsung hellokitty diamond shine ready http instagram com p jnmhgynfq',\n",
              " 'beach group text beach ocean cellphone friends trio iphone karebear http instagram com p fndf bp lm',\n",
              " 'at last i have my apple watch mm space black stainless steel excited overthemoon didalittleweepic twitter com zznj fjw',\n",
              " 'i l ny hug follow like iphone tattoo christmas beautiful newyork http instagr am p cyraz',\n",
              " 'x id totally fuck siri her knowledge excites me siri fuckinsiri',\n",
              " 'lol i love my iphone rt to apple who fuckedup the i phone u know what u about to get oh yes pow via',\n",
              " 'photo my new macbook air is installed and ready to perform apple pepsimax ddb taken with http tmblr co zxq zysnslur',\n",
              " 'throw your worries be fit and fab marjdiary samsung fit fabolous smile stayhealthy p e moblcz',\n",
              " 'samsung galaxy s plus dual sim g fd gb ram b black http zpr io psxm http zpr io nxjm florida money today life twitch retweet twitter birthday sale android windows nokia samsung iphone phone smartphone motorola lg sony offers best',\n",
              " 'new phone yes please been without a phone is death taking hold sony sorrysamsung',\n",
              " 'speed wifi g g qmdlxq android apps unitedstate cute colors igers iphoneonly guitarplayer iphone',\n",
              " 'samsung gear s etat comme neuve samsung gears prixhappy occasion cash p birlq njggo',\n",
              " 'my iphone but why would you trade a computer for just a smart phone galaxynote is sexy',\n",
              " 'mac os http mail app on hight sierra is a buggy little crap jobsdead applenofuture',\n",
              " 'why when i send a calendar event invite to a exchange user the user cant accept it icloud vs exchange apple iphone',\n",
              " 'i like iphone only because i get to play games lol i love angry birds iphone gam http www linkati com q index php i',\n",
              " 'my phone keeps freezing whenever i go to end a call iphone',\n",
              " 'ever since i updated my phone it s been fucking up apple iphoneproblems',\n",
              " 'chicwithatwist team ootd mixandmatch urban style expressyourselfie workshopping samsung galaxya http fb me qi n kce',\n",
              " 'i ve been trying for hours to sync my ipod i give up',\n",
              " 'conversations with my sister i wouldn t swap her sister text imessage iphone chat p ldm ihp',\n",
              " 'small and blue steemit photography pj fa small and blue blue small life story blog try nature naturephotos bug blue color colors photo photos photography sony sonylens lens sonyphotography image images photofeed feed follow home gr grassland land',\n",
              " 'photo oh yeah pretty cute gorgeous beauty ig iphone ignation instahub http tmblr co zonpawpp u k',\n",
              " 'just bought something kahapon walkman sony xempre with orange headset haha',\n",
              " 'shadesofmoonlight me dress party alcohol night heels iphone legs stripes http tmblr co z tkuvc ht s',\n",
              " 'i am actually about to cry that i couldn t screenshot that snapchat because my lock button is broken apple',\n",
              " 'my egg speaker d speaker egg awesome music ipod apple school chillings relax http instagram com p dw bmwd ch',\n",
              " 'be reallyreal app approved for iphone ipad dating college http reallyreal com college vc singlepic twitter com d dzq cxo',\n",
              " 'mychristmaswish is the same as last year for all my other wishes to come true of course fame friends chocolate food iphone',\n",
              " 'i swear if the iphone update just erased everything on my phone im gunna flip shit',\n",
              " 'yes itunes take your time and not put my songs on my ipod wishishadagalaxy',\n",
              " 'moon just trying to help iphone majority usa help adore',\n",
              " 'getting emails with pictures like this make my life iphone instagram nofilter cute christmas popular http instagr am p xp b',\n",
              " 'i my iphone s wallpaper so much it s full of constellation at the milk way want me to bump',\n",
              " 'this drink is amazing fruits apple cherry purple tasty drink sun garden http instagram com p dwai rliea',\n",
              " 'blocky cars http greenrobot apps net blocky cars sozday gonochnyy bolid html android games news ios apple iphone',\n",
              " 'hey guys look new motorola moto e xt nd gen gb simfree http zpr io nv mc money today life twitch birthday sale android windows nokia samsung iphone phone smartphone motorola offers bestprice jun am',\n",
              " 'cant unlock samsung galaxy ace cause its about as good as a blackberry although i managed to unlock that samsung vodafone',\n",
              " 'look what mommy got me p igers ipad apple mom gifts instahub instadaily blessed fo http instagr am p uor uoh c',\n",
              " 'if apple could make itunes and itunesradio a bit more it would be fabulous disappointing',\n",
              " 'finally iphone will be dominated by i phone s apple ios android iphonex market chinese smartphone finally iphone will be dominated by i phones pic twitter com grc o hbsc',\n",
              " 'my hate rant iphone does not synch with outlook or entourage darthjobsstrikesagain say no to apple closed system',\n",
              " 'good morning everyone jam nike iphone apple s goodmorning selfie coffee http ift tt x vo a pic twitter com hwxpuracjl',\n",
              " 'rt pictures by smileykidd tennis today tennis babolat pink iphone black gold green r http',\n",
              " 'photo apple ipad iphone imac ibra samsung galaxy instragram instramode smiling in the http tmblr co zxqgpvvkqxyh',\n",
              " 'senza love without nasimibeach compleanno birthday hb apple sun iphone http instagram com p oufklyxewb',\n",
              " 'dear apple thank you for selling me a dollar laptop that be out of date in years and will not be able to run diablo ps',\n",
              " 'so convenient that my iphone stopped working completely less than months after my warranty ended mad apple',\n",
              " 'the purpose of life is to live a life of purpose mondaymotivation app id iphone ipad ios mondaymotivation',\n",
              " 'paris and i iphone photo chronicles violence and horor http bit ly aixqfo paris iphone poster wall einstein answer',\n",
              " 'apple will be rolling out the verizon iphone at valentine s day http ht ly wdfl sale',\n",
              " 'by twitter tehran photography affliate marketing iran iphone ruby obama osama saddam iraq google adwords d',\n",
              " 'happy new year newyear reveillon happynewyear newyears years nouvelleannee nouvelleann e instagram instagram web webmaster webdesign elodiewebdesign apple mac macbook macbookpropic twitter com mzcxkjuwqf',\n",
              " 'that sunday when i m tranna cram all my work sunday macs macbook samsung s mom work life http instagram com p ccpg kvvh',\n",
              " 'hi apple thanks for the gig for with retarded fuckup recycle and the free apple iphone headphones nah for ios whatev',\n",
              " 'presents stage is my home show pop musicians rock hardrock sound live sbamfest festival italy torino turin guitarpractice gig events music guitar metal stratocaster apple iphone socialmedia club sneak life band rt webzine ffpic twitter com pmivqqvdxy',\n",
              " 'learn this my smoke smoke painting iphone art life green http bit ly vcvbvx inocentes',\n",
              " 'indulge now swim tomorrow all american seasonalcrisp apple blueberry lemon caramel th see you at the beach we re closed monday',\n",
              " 'gunslugs http greenrobot apps net gunslugs mezhgalakticheskaya operaciya spaseniya html android games news ios apple iphone',\n",
              " 'haven t tried instagram yet here s some reasons to give it a whirl http ow ly xgwd iphone',\n",
              " 'too delicious morning friday smoothie nutribullet tasty apple orange banana honey by pic twitter com wautkfgi',\n",
              " 'you don t have to wait to long for another apple fail to come along or an itard to appear',\n",
              " 'reflect iphonesia iphone instagood instagram photooftheday tweegram iphoneonly far far away http instagr am p rbriyeg hz',\n",
              " 'hi to my new phone cover ebay blue tower samsung http instagram com p eswo ll r',\n",
              " 'alternative power fix for apple cinema display priceless just take a random volt power connector finish so easy pic twitter com ycug wjopq',\n",
              " 'new phone iphone iphone new phone mine silver white exciting http instagram com p x joelpmaq',\n",
              " 'thanks de for still providing updates for my oneplus i am now on android o never had that experience with other mobiles oneplus',\n",
              " 'the iphone doesn t seem to have a confederate flag emoji in its little flag section this has to change southernmen ga al',\n",
              " 'photo the new addition to our family instapic life samsung s april spring cali http tmblr co zbpr o egs g',\n",
              " 'fucking apple man i just wanna use m wifi and you re telling me i have to be or to use wifi apple',\n",
              " 'take a look at samsung s cool i see your dreams initiative http wp me p oq i ew samsung iseeyourdreams soccer kids fun',\n",
              " 'hour usage and phones down thanks iphone apple',\n",
              " 'tablets using google s android system accounted for of the market while apple s ios achieved androidalltheway',\n",
              " 'downgraded my phone but backups aren t compatible between versions all that retained was my phonebook going to upgrade again',\n",
              " 'and spell check if i mistyped quickest how can quackiest be an alternative just how often do people use that word',\n",
              " 'dude this is the th usb chord thats broken in the past months',\n",
              " 'one of my newest models iphone iphoneography tumblr tweegram instagramaddict life thingsilove http instagr am p cmiwz',\n",
              " 'new samsung galaxy advance case i get it from my best friend madelief thank you http instagram com p bdcfwzxxh',\n",
              " 'yey thanks dad xperia sony z xperiaz gift graduationgift p j suxm',\n",
              " 'follow on instagram http mf tt igmdr sup surf fun capetown funny sexy me samsung pic twitter com ttjru zxzh',\n",
              " 'anyone else having trouble with iphone update it s taking ages to run the new camera stuff',\n",
              " 'gain followers rt this must follow me i follow back follow everyone who rts gain iphone sougofollow f',\n",
              " 'welcome to my world iphone iphone iphone apple life cny http instagram com p zcbixymc',\n",
              " 'why can t an iphone block numbers which call every day re ppi etc was possible on an old nokia',\n",
              " 'hey why do we schedule appts if y all never honor them and are never on time frustrated theirempsareemps',\n",
              " 'uninstall samsung kies to get android file transfer working on macos no other options worked for me',\n",
              " 'gain followers rt this must follow me i follow back follow everyone who rts gain iphone sougofollow rfj',\n",
              " 'photo yea bro fifa all day dope iphone instagood instagram ps it picoftheday instaphoto http tmblr co z jsxubwk m',\n",
              " 'finally we get something from apple the americans don t get http tinyurl com v d m rogers bell telus',\n",
              " 'fibs rhymes with sibs nibs jibs bibs ribs dibs start today with http bit ly rhymeapp rhyme for iphone',\n",
              " 'oneplus finally fixed so fast so efficient thx oneplus',\n",
              " 'thought it would be fun to jailbreak my ipod now i m sitting here restoring it to factory settings apple jailbreak',\n",
              " 'love my fucking ipad rednose musicevideo blackfriday walmart apple ipadmini http instagram com p hsvbq f cb',\n",
              " 'why do people with iphones have to keep showing me what they do',\n",
              " 'follow on instagram http mf tt rzwi sup surf fun capetown funny sexy me samsung pic twitter com gfkco mqm',\n",
              " 'photo meanwhile in twitter samsung galaxypocket samsungcheerdance blessed instafun http tmblr co ziqpmyt foco',\n",
              " 'honored me for using in my first ever stock of mine i m thank you samsung stockmarket stocks stockport stocktonscholars investing into stockpile samsung positivevibes stocksmarket investor investments i',\n",
              " 'happy mother s day mom mothersday iphone igdaily instagood iphoneonly me bestoftheday http instagram com p zolb qitfu',\n",
              " 'rt i m married but here you go d rt healthy dating there s an app for that http cot ag xtzo iphone',\n",
              " 'follow on instagram http mf tt kpv o sup surf fun capetown funny sexy me samsung pic twitter com odosytgabd',\n",
              " 'why cant iphones have the option to change the font like what if i want a cute girly one but no thats not an option sorry ugh',\n",
              " 'using loving instagram upgrade introduces a powerful new feature http j mp w zrmf iphone app',\n",
              " 'apple iphone x apple iphonex techjunkie tech iphone upgrade youbeauty beaut p bb gyutdvai',\n",
              " 'only reason i d get an iphone is b c of all the supercool cases out there especially the ones with a bottle opener on the back',\n",
              " 'solid gold retro christmas video http tinyurl com lu ff friends gratitude ipad iphone blackberry entrpreneur',\n",
              " 'yes finally got the nougat update on my samsung s edge and woke up to my battery using only while i slept compared to',\n",
              " 'unboxing my new smartphone op oneplus oneplus amazon excited wala feelingpic twitter com cschj erex',\n",
              " 'my small garden steemit photography my small garden small garden home life look story photo photos photography image images wow cool like sony sonylens sonyphotos sonyphoto sonyphotography photofeed feed new top colorchallenge',\n",
              " 'new video youtube subscribe daily vlogs twitch gaming twitch ps xbox sony games destiny dance wlk ssndguw',\n",
              " 'hate how my phone has an ipod in it it takes the battery down so much iphone',\n",
              " 'new one yey babypink pink otterbox samsung s phone phonecase cute new http instagram com p zsayuwmipn',\n",
              " 'we would like to wish you an amazing day make every minute count tls today iphone accessories news life june at',\n",
              " 'under water summer summertime pool countryhouse countryside xperiaz sony me http instagram com p sfbdhcn dz',\n",
              " 'i m trying it i am instagram iphone iphone iphoneography imissyou longdistance sad http instagr am p h jl rwo q',\n",
              " 'first yellow steemit photography first yellow yellow nature color colors new story blog photo photos photography image images sony sonylens sonyphoto sonyphotos sonyphotography photofeed news top wow cool like look color colorphotography',\n",
              " 'be good to your woman our she might do this iphone smash phoneunlocking motorola india uk canada kenya smartphone motorola wikomobile europe france relationshipgoals p bm xxhmhk utm source ig twitter share igshid difrvki rs',\n",
              " 'anyone know why my ipod won t turn on i tried charging it and nothing hateapple',\n",
              " 'munchhhhhh chocolate instagood iphoneonly iphone dairymilk cadbury oreo tasty girl http instagr am p ra w ne dn',\n",
              " 'tell us what you about supacamx the amazing new live camera effects app on iphone',\n",
              " 'new cellphone case samsung galaxys cute case rilakkuma bear new phone super http instagram com p athdyxsjce',\n",
              " 'headphones sony red headphones music igerspiura c c real plaza piura p ar bamnvu',\n",
              " 'photo the healthy balloon survivors haha google colorful motorola fun http tmblr co zjezuyuaczbz',\n",
              " 'photo iphonesia iphone instagood instagram photooftheday tweegram iphoneonly igers http tmblr co zz xpxpqmwkt',\n",
              " 'just get to the new ipads no one cares about maps on their mac',\n",
              " 'night day split night day effect science iphone valencia spain picoftheday photooftheday evening http fb me tdwgtvfz',\n",
              " 'finally my oneplus t arrived so excited thanks oneplus brandnew cellphone p bqtl qklbwz',\n",
              " 'we is awesome friendship best otherhalf iphone imessage biff text http instagr am p vkdrpyo ud',\n",
              " 'how does get anyone to help at the applestore everyone s busy no says hello no procedure on how to wait to be helped',\n",
              " 'snapdeal i used to order soemthin every alternate day from you but now i see u sent a defective sony tv to my bro',\n",
              " 'my phone was plugged in all night long and didnt even charge what the annoyed',\n",
              " 'since my iphone didn t come with these i went out got myself some earpods i them http instagram com p hzbbsfmmjm',\n",
              " 'cooge beach hafizh instamood like like samsung camera instaphone cooge beach http instagram com p vthd a dh',\n",
              " 'apple working on iphone running on ios why was nt iphone flopshow enough for no reason p hey fans',\n",
              " 'lol nicked it rt says it all hateapple android picoftheday photooftheday insta instagram http po st sujyie',\n",
              " 'my baby finally got here newphone galaxy samsung smartphone android galaxys tmobile http instagram com p ng k ukd i',\n",
              " 'wraps fish or mexican londonfoodies london diningout market indoors instafave igdaily instagood photooftheday vsco photography london iphone http ift tt jijsqx ifttt instagrampic twitter com qhrdo b rm',\n",
              " 'my iphone been bugging for like days finally back on track though about to start catching up on all my tweets soon much love',\n",
              " 'follow on instagram http mf tt p jmd sup surf fun capetown funny sexy me samsung pic twitter com g pyufti v',\n",
              " 'highlights of the week neues smartphone http www erdbeerchen testet com highlights of week neues smartphone html smartphone huawei samsung baby handy neu handykauf pic twitter com vvus eabjy',\n",
              " 'carpe followsunday followback rt teamfollowback follow retweet iphone keep doing ya thing',\n",
              " 'i have to change my finger id every f king day if i want that feature recently that s it i m officially thebrand notthefruit',\n",
              " 'fur ball dog rescuedog cutenessoverload photooftheday instagood picoftheday on pics sony p bbdshocfnjo pic twitter com dw dlvo up',\n",
              " 'top photo app available now us app love id mt photography usa woman poem valentine iphone k rlek',\n",
              " 'i hate apple my twitter app doesnt work anymore bcs my ipod is too old for the new updates apple',\n",
              " 'just went to the apple store and got the back of my iphone replaced',\n",
              " 'summer time sonya ii family photooftheday cute capture followme beautiful me prilaga photography picoftheday instadaily sony sonyalpha all shots film photos fashion fullframe girl artpic twitter com bas ejzfct',\n",
              " 'the future of cell watches awesome samsung android phones watches followme cute me http instagram com p orthhbr pg',\n",
              " 'bonding time with with orangecafe apple miglight friends http instagram com p feccultagg',\n",
              " 'i finally got a macbook d finally apple mac macbook computer firsttime excited laptop by lulipeacepic twitter com ba dhyuad',\n",
              " 'in litetally one week i will own the iphone s fuck yes',\n",
              " 'i my iphone an all sexy girls ohmann hab ich langeweile nerd',\n",
              " 'redeem promocode ios iphone games playing free today now art indiegame unity d art puzzle fun http codehookup com a e ab pic twitter com nxtrvqdwpo',\n",
              " 'i love cats cats cute cool likethisphoto instaphoto instalike iphone iphonisia jj http instagr am p vkpsgeai n',\n",
              " 'summer in burgundy sunday afternoon smile picoftheafternoon ig sony p bp ovyih ye',\n",
              " 'apple is so fucking stupid i have to pay plus tax to get help with my phone on the telephone apple',\n",
              " 'the prophet as a husband iphone http ift tt bor kb android http ift tt asurcj kindle book march at',\n",
              " 'funny story about picking apples laughter laugh smile applesauce summer apple harvest http www godsgrowinggarden com my hubby makes me laugh homemade html',\n",
              " 'the time has come bride sister sony proud family indonesia jakarta grand asia p biojkyjaxmy',\n",
              " 'it looks like andrewmccabe is going to prison thejoint thebighouse an apple for a cigarette theyard thepokey bigbobbasmansion get ready for some hardtime douchebag vaseline lipstick fuckedinthe prisonbitch lockandrewmccabeup loser ass',\n",
              " 'phone freaked and now i have no pictures or any of my notes',\n",
              " 'gain followers rt this must follow me i follow back follow everyone who rts gain iphone sougofollow hrhp',\n",
              " 'iphone pricereduction with touchid g nfc contactless payment http tidd ly ce b tech mobilepic twitter com hpz xfzn',\n",
              " 'so excited for this little arrival today samsung gearfit freebie healthstartpic twitter com i sy gcelm',\n",
              " 'iphone and itunes pissing me off might as well just restore my whole phone and start over right hateiphones hateapple fthis',\n",
              " 'happy friday here is the sticker app preview as promised enjoy bright boost appstore stickers ios imessage iphone ipad family friends gifpic twitter com yz ttdswpv',\n",
              " 'and finally the iphone shatters month before my contract is up wehadagoodrun',\n",
              " 'furr tree nyc ny vscocam vsco sony sonyalpha a riii mm manhattan nike p bfhmqxig uj',\n",
              " 'roast pork most definately with apple sauce steamed veggies and mash are on the menu this evening scrummy with a double ss oh and as far as i m concerned being a cheesefreak that sauce as well on my veggies sunday',\n",
              " 'who are you waiting for wait you cute afternoon iphone picfortoday dog chiwawa http instagram com p dy zhfrzdj',\n",
              " 'brad boxberger nearing return to rays news photography fashion health fail tech ipad iphone funny l pic twitter com neh cbqwp',\n",
              " 'pretty amazing feeling having a phone that doesn t need a charge all day iphonex iphone sucked apple theshit',\n",
              " 'how good is this free fruit at woolies woolworths banana apple orange fresh p baeno sk h',\n",
              " 'and apple brings out more things i want of course magickeyboard',\n",
              " 'happiness make you better person kiss girl pic samsung myself photooftheday http instagram com p ftibhjnpra',\n",
              " 'cute hearts custom ipad and iphone case for the valentine s day http rewards life gifts posterous com love cute hearts custom ipad and iphone case via life',\n",
              " 'a refreshing fresh salad is all it takes to enjoy a meal apple ios smartphone p bqnt tasar',\n",
              " 'with my iphone plus the iphonex is a user experience nightmare the iphone x is a user experience nightmare',\n",
              " 'in my library paula vogel news photography fashion health fail tech ipad iphone funny lolpic twitter com yk fbch c',\n",
              " 'say hello to my new camera the sony fs videoproduction filmmaking sony fs bts http fb me oux pcid',\n",
              " 'be happy fit style friday money samsung wels sterreich lifestyle herbst p bz ehxnlneg',\n",
              " 'moschino iphone case my new baby inspired inlove fancy fashion luxury boylikeboys p poufyk ew',\n",
              " 'black outing wednesday be dont think bad gambateh note samsung asian yan s lovely home http instagr am p taz su w',\n",
              " 'pcs exquisite squishy random charm in http ebay to yi mr iphone straps toys decor free shop style sales today giveawaypic twitter com bpgjry g e',\n",
              " 'iphone iphone apple avtweeps avtweetup hot follow friends summer p wqogai u',\n",
              " 'gain followers rt this must follow me i follow back follow everyone who rts gain iphone sougofollow ff f l',\n",
              " 'we are loving cake day in brighton got some propper lush chocolate beetroot cake apple cake chocolate and raspberry cheesecake plus some butter shortbread biscuits to go with the coffee if you fancy',\n",
              " 'new tv in bedroom so happy samsung smart tv new http instagram com p xheswylubp',\n",
              " 'last day to vote for dabball this round http ow ly dt art game app iphone ipad itunes apple karma bribes browniepoints',\n",
              " 'i absolutely love sony music cam i recommend sony musiccam viola photobyclementino p emkscxanc',\n",
              " 'don t get why iphone s are popular they re pure shite android is by far the best smartphone d',\n",
              " 'i hate iphones why is it impossible for them to use g or lte theworst cantdeal',\n",
              " 'hateapple update didn t work causing my computer to restore my ipod fml',\n",
              " 'scrolls through twitter and facebook for like mins and phone goes from to seriously iphone iphone batterysucks',\n",
              " 'i came home to my mac case being at the front door winning apple pink matte frosted',\n",
              " 'just installed icloud on my computer and it has wiped all my outlook contacts and calender',\n",
              " 'coming soon human hues apparel humanity goodvibes apparel fitness fashion igers streetwear skate surf iphone sports tgifpic twitter com oifg dpxr',\n",
              " 'seriously migration assistant is not seamless fml firstworldproblems apple epicfail',\n",
              " 'gain followers rt this must follow me i follow back follow everyone who rts gain iphone sougofollow znjq',\n",
              " 'follow on instagram http mf tt wiekf sup surf fun capetown funny sexy me samsung pic twitter com oiajffndhv',\n",
              " 'why does the word fuck still turn to duck in my iphone i swear how do you not fucking know better pottymouth',\n",
              " 'just the wind in the trees haveaniceday french mothersday timelapse shotoniphone iphonex xgvnsv pic twitter com ldt gse g',\n",
              " 'sunflowers make me nature flower sunflower yellow summer sevastopol samsung nxmini p a anaj a',\n",
              " 'razr d new estreno motorola razr razrd felicidad smile emocion instapic http instagram com p dvtejdpo s',\n",
              " 'the iphone s is totally amazing iphone ios apple amazing phone tech music iphone plus gold mobile',\n",
              " 'apple working on iphone running on ios why was nt iphone flopshow enough for no reason p eh',\n",
              " 'i love you bff friend me brazilian cute fashion mylife tweegram iphone instalovers photo http instagr am p orgjtbws t',\n",
              " 'warning do not poke the sleeping giant http gfycat com astonishingdearappaloosa cute aww rt ff iphone android',\n",
              " 'new lock screen and home screen hehe lockscreen homescreen iphone iphone everyminute lifepic twitter com gqvkyno ax',\n",
              " 'great more pointless apps i don t even want taking up more storage space that i don t even have thanks apple',\n",
              " 'drinking coffee reading from http bit ly simplebiblerox free iphone app because jesus is an awesome god you all godbless',\n",
              " 'aww thank you so much harlem nowplaying wake up next you by just downloaded it and uploaded to my iphone',\n",
              " 'apple your shitty ios made everyone s phone suck ass',\n",
              " 'good to have my tab back after weeks samsung tablet http instagram com p k ijljxv b',\n",
              " 'hateapple just wasted hours of my life paying to get a new battery for my iphone that was rigged to drain battery life by apple thx time to switch to android iphone s',\n",
              " 'i going to my back iphone and seeing more funds have been added to my account http cashthevisits com index php refcode workonline cashregisterrip',\n",
              " 'new hoesje samsung galaxy s lll vistaprint affie white lv http instagram com p hiogcdvmf',\n",
              " 'retweet follow all who rt followback gain with me rt now iphone sougofollow ff',\n",
              " 'its me nickii orange pictureoftheday samsung samsunggalaxys galaxy s blonde haare http instagram com p b dmkol',\n",
              " 'i swear to god i m going to throw my phone under a fucking bus i it doesn t stop lagging every two fucking seconds ios apple',\n",
              " 'apple messed up when they made the new charger for iphone but they really messed up using it again on the iphone apple',\n",
              " 'oh hi baby new phone finally samsung galaxys excited abouttime yaay baby http instagram com p pwf sztrn',\n",
              " 'salmon with a hammer and a shotgun and loads of green paint to splash on the pretentious stores donotfallfortheirlies',\n",
              " 'having to use a iphone while my uk one goes for its th repair hopefully it s a straightforward replacement this time',\n",
              " 'funny thing why doesn t windows sue apple for copying them now or are apple the only ones allowed teamwindows teamandroid',\n",
              " 'hateapple they are trying me to get the newer version no way l nothingworkswithme',\n",
              " 'i know i m going to love my galaxy s stoked samsung byeiphone',\n",
              " 'yeah finally i have samsung galaxy s me samsung s white http instagr am p ub jpnfavk',\n",
              " 'all my pictures on my phone i dunno i thought it looked cool pictures memories iphone http instagram com p esq djpdqo',\n",
              " 'hooked my ipod up where da fuck did all my music go',\n",
              " 'redux hey that s how i type on my iphone',\n",
              " 'at working hehehe america instagood selfie mac apple coffee vidadura verynice p rr syqu',\n",
              " 'youtube subscribe daily vlogs twitch gaming fun ps xbox sony games bungie destiny destiny ignhttp youtu be y n gwbsosi',\n",
              " 'follow me as i play jhawk for the iphone ipad ipod free game fun kansas georgia http instagram com p m rvjeean',\n",
              " 'apple family from my garden happydays day apple garden ly flowers kitchen http instagram com p sns sqtxcr',\n",
              " 'upgrading my imac with lion made me smile but now i m really http ow ly i ftcd max memory gb apple fastandfurious',\n",
              " 'steve jobs to god world would ve been addicted to technology anyways i tried to give them a better version but steve',\n",
              " 'new case i lurv that new case iphone selfie summer instgram hot wait p riv ohlsl',\n",
              " 'new phone setup at last and could also explain my absence this evening lol nice shiny iphone x to get used to larger screen but smaller phone compared to my iphone iphonex apple pic twitter com d hb npg f',\n",
              " 'mac os x ios beta itunes beta feel so fresh n updated d all set for lion all set ios itunes apple',\n",
              " 'for mac os x one moment my wallet is not here i ll come back in a minute wwdc apple osx',\n",
              " 'fuck i hate itunes what a garbage program when using windows crashes and doesn t find my devices apple',\n",
              " 'live rizkyff rzkyff holiday forest dreamer lightroom adobe sony jakarta indonesia instaday photoshoot photography instagood me followme photooftheday p bkhkawshlw utm source ig twitter share igshid qqc xol gb j',\n",
              " 'molecules rhymes with cools pools tools mules jules pules dont s miss http bit ly rhymeapp rhyme for iphone',\n",
              " 'happy valentines day samsung s hearts day couple phones red favorite http instagr am p vrcbf nk g',\n",
              " 'chicagonow http www chicagonow com taking a second look to feel it is to fly at least with your iphone what exactly is this cosmic yet concrete force in the flights of our life iphone mri brain',\n",
              " 'nisbet don t think so haha the staff were so rude too so my letter is a lengthy one rant over btw sorry hahahaha',\n",
              " 'check out my new flappy bird highscore flappybird highscore iphonesia samsung galaxys bird game pic twitter com vk vhmkfy',\n",
              " 'sony xperia z unboxing newphone freeupgrade sony xperiaz sexybeast excited gadget newtoy http instagram com p nf h nh z',\n",
              " 'why michelle came home http ow ly uxzl tcot nascar theater movies single ipad iphone windows',\n",
              " 'had to go back to my favorite samsung galaxy s p i swhxjk',\n",
              " 'my working day will really be very very long apple pic twitter com ynkbs xbf',\n",
              " 'happy birthday paps samsung live laugh life birthday instago instahub instagram http instagr am p w uhwmbhi',\n",
              " 'no one update the new itunes there a bug i updated it and it won t let me ever get on itunes on my computer',\n",
              " 'bonding with bonding cams tired fun bb iphone case greenhills http instagr am p s nd ygwfw',\n",
              " 'apparently painful more hours to go so they say ios apple staytuned pic twitter com rgjiklyw h',\n",
              " 'sunset one minute ago zeeland dezeekust buienradar samsung sunset stormhour omroepzeeland rtpic twitter com ar ocmqb',\n",
              " 'hey guys look motorola moto g s plus gb gb lunar grey http zpr io nvwpf money today life twitch birthday sale android windows nokia samsung iphone phone smartphone motorola offers bestprice jun am',\n",
              " 'say hello to the new phone samsung galaxy s edge hype new awesome smartphone p bhaajs bqb',\n",
              " 'and now i have apple tv amazing spend money enjoy life apple tv http instagr am p pabcd no',\n",
              " 'of kerry get the samsunggalaxys it lasts for ages and i use it constantly',\n",
              " 'the geniuses asked me is everything backed up on it i said no he said well that s a shame ripoff',\n",
              " 'meet sony s newest employee sony newjob smiles electronics dope sony store http instagr am p rqypjxc vn',\n",
              " 'how to pronounce generic mexican rt http www dictionaryvoice com tothemax justout warlike doggy apple modest g',\n",
              " 'post yld lieao i v w link in bio off all apparel of everything else use code blackfriday iphone tee tanktops tshirt tops hoodies tshirtdesign tshirts t tshirtdress pillows instagood me tbt cute tees apparel girls boys fashion locan',\n",
              " 'is beats a mistake for apple http money cnn com technology innovation beats apple index html hpt hp c answer no racist trolls comments undertones aside apple s earpods',\n",
              " 'my birthday gift from my aunt i m so so so happy mybirthday gift sony camera love http instagram com p rr a vhuc',\n",
              " 'audio proverbs app english italian listen repeat record listen to yourself and learn http dld bz ctrmu iphone ipad',\n",
              " 'yeah so i should have ios soon then apple pic twitter com zfxqo v l',\n",
              " 'early christmas gift from my sweet husband galaxys galaxyphone samsung http instagram com p ianaulguvr',\n",
              " 'haha instapic kmrpocket sony scholl freecllas kanesma follow like mention follback http instagram com p rlekblizbz',\n",
              " 'problems with samsung galaxy and froyo well lagfix is for you d',\n",
              " 'i fu ing hate itunes it screwed my display driver when it updated itself fail',\n",
              " 'heads hop new game coming soon news gaming gamedev games videogames apps iphone android indiedev ios android unitypic twitter com j mnt b j',\n",
              " 'second time this week i want to get rid of my ipone apple',\n",
              " 'photo quote of the day quotes wisdom words smile follow tweetgram me cute iphone fashion http tmblr co zsf etmzfild',\n",
              " 'finally a milanese loop watch apple watch tech gadget fashion bracelet me p bmywgryakej',\n",
              " 'aka forrealdoe workout or train geefilmworkz greeneyedent cinematography photography iphonex zeiss movies motivational documentaries mensstyle finalcutpro j p bmwmg dglno utm source ig twitter share igshid nwd qa pste',\n",
              " 'followsunday followback rt teamfollowback follow retweet iphone keep doing ya thing',\n",
              " 'makeup show nyc nyc makeup instagram iphone iphoneograpgy iphonesia picoftheday http instagr am p kn hgapcxk',\n",
              " 'anyone who updated to ios knows the pain i have been through for the past hour killingmyself',\n",
              " 'tan check tan spring april fuckyou dope sick apple shirtless skinny workout iphone s instalo http instagr am p jgu nuhkfq',\n",
              " 'gain followers rt this must follow me i follow back follow everyone who rts gain iphone sougofollow ff lk',\n",
              " 'one love photgraphy sony xperiaz selfie mylove sunny paradise dayoff cute p bhrxyxoj tt',\n",
              " 'photo of the day sun nikon apple iphone photo try to go pro followme http instagram com p bcfpxztlmv',\n",
              " 'why are you deleting all my emails you useless new phone hateiphones',\n",
              " 'my boyfriend new song instasize iphone lol hereitis itunes florida chrisbrown him p i jkep v',\n",
              " 'samsung engineering building photooftheweek weekend springday weekendday walkingday samsung en http bit ly zlacky',\n",
              " 'rt cook jk cook jk cooking jk japan apple pie f f sweet cook jk status photo pic twitter com phs x dza',\n",
              " 'shopping day me starbucks coffee like like nice instagood aruba instagood iphone http instagram com p xaufg hgsl',\n",
              " 'set up almost done newtv samsung black massive http instagram com p duwesckqlo',\n",
              " 'the main reason why i hateapple is the ios bullshit sooooo annoying at inconvenient times my ipad thinks it will explode on every update christosgage status',\n",
              " 'how do you catch up with your family southerngirlproblems family cousin iphone p ej nysa',\n",
              " 'even if it was just a picture of an apple apple red fruit yum heathy hashtags uggghh just annoys me lol',\n",
              " 'new cases hanogramcase martyarchs cases name iphonex name fashioncase fashion p binjw ia fs',\n",
              " 'design tag your friends design design contemporary architecten architect arquitectura iphone mimar mimarl k araba car cars instaarchitecture concept architektur architecture luxury archite http ift tt',\n",
              " 'iphone is just like the s but thinner and has a better battery life',\n",
              " 'you apple you applesucks apple applehate u u sucks playlist free annoying s la pic twitter com pvrkmwgzcf',\n",
              " 'i should be getting my galaxy this week yipeeee android allday everyday hateiphone',\n",
              " 'i do love my ipod i only avoided it in a protest apple sucks',\n",
              " 'bye bye samsung it s time for sonyxperiac white thanks to my pocketmoney eon at pune kp',\n",
              " 'android taking a on apple and rightly so iphoneis macsare http instagr am p uoddobrlij',\n",
              " 'hard at work doing a word search applebees dinner kids iphone instamood fun instafun http instagr am p urei urj i',\n",
              " 'amazon prime day everything you need to know how to amazon prime day everything you need to know amazon amazonprme sale deals shop onlineshopping discount free buy ad gift birthday family news tech iphone holidays christmas like like viral girls mom summer travel food',\n",
              " 'just lost all my numbers and photos of my phone apple',\n",
              " 'fuckyou apple for not connecting me to itunes keep up with this bull to try to get me to buy iphone and i will get rid of you',\n",
              " 'in love with this bathroom sohohouseberlin sony suite hello xperiaz http instagram com p y dkxrlqbq',\n",
              " 'cheers ordered the bluetooth bundle looking forward to getting it creative',\n",
              " 'holy crap the more i look at the new iphone the sexier it looks apple iphone',\n",
              " 'iphone and samsung s s s and s phone by everlunastore http etsy me kg sk via galaxy phonecase',\n",
              " 'we are all one human family pakistan humanrights india un iphone',\n",
              " 'periwinkle blue wooden bird feeder gardening gifts scottish gifts birds apple product periwinkle blue wooden bird feeder gardening gifts scottish gifts birds apple balls scotland gardener nature garden numonday womaninbiz handmadehour tweedvalley birds gardens gifts giftidea scottishborders apple green blue eco crafthour',\n",
              " 'free tablet today winning sundayfunday samsung technology tablet newtoy awesome http instagram com p l rxmti j',\n",
              " 'came home to a new inch flat screen tv dreamhusband samsung berlin tv',\n",
              " 'mayralovee we would to be your new wireless provider for the iphone here s a link for you http bit ly yx f v ah',\n",
              " 'i m a happy girl galaxys teamgalaxy teamandroid samsung yayy awesome thebest http instagram com p bpp dxhvwm',\n",
              " 'back in service gayboy gayguy enamorado gayman newphone note samsung galaxy mihouse http instagram com p mrao lwcc',\n",
              " 'man apple and be on some serious don t download for me da fuck is wrong with you',\n",
              " 'photo the incredible pretty cute gorgeous beauty ig iphone ignation instahub http tmblr co zonpawppamum',\n",
              " 'i must go out some job done spread happiness in order to reveal ff quote twinagoya japan twc iphone haiti support',\n",
              " 'yeeee new phone cover arrived phone iphone cover boxer marcjacobs dog black white http instagram com p dythj m nd',\n",
              " 'thx will try now in doubt i have an rsnapshot backup but hope that it will keep my data',\n",
              " 'honestly i ve probably spent at least fixing my fucking iphone screens hatemyself',\n",
              " 'sony killed gtav public apologies wont bring back the excidement of unraveling the plot thank you very much',\n",
              " 'jump for joy chihuahua dog puppy joy run sony portrait animalpic twitter com szkogwa r',\n",
              " 'smile smile girl vacation bokeh sony a color vsco lisboa warm sun sunny p bx xvd r',\n",
              " 'bacterial rhymes with real serial cereal apply http bit ly rhymeapp rhyme for iphone',\n",
              " 'dragon ball xenoverse on sale http www g a com r dragon ball xenoverse best price ps cool best anime sony androidinstagram nana mmorpg memes po',\n",
              " 'that was yaaammmm russianbbq bbq nature fun endlesssummer samsung nxmini p odokgp oo',\n",
              " 'photo showing where love is at my favorite grammers u romp wit dem u romp wit me iphone http tmblr co ziuzluj aya',\n",
              " 'first pictures on my samsung notebook girl samsung notebook birthday june instaframe http instagram com p bmimf ra k',\n",
              " 'christmas glitter aztec design http www redbubble com people cyra works christmas glitter aztec design asc t p iphone case via redbubble freelance iphonecases iphone tshirt christmas',\n",
              " 'i ve spent over hours trying to fix my broken phone today it s still broken hateverizon',\n",
              " 'flag photo frame qfeigp android apps beautiful cute colors igers iphoneonly iphone',\n",
              " 'i love photography photography nikon nikonistas iphone iphone funny timburton stainboy toy doll http instagr am p odg h',\n",
              " 'time to paint this bad boy paint beanboots ryobi dewalt namaste yoga yogapants yogaposes king kregjig u pose clarksville iphone clarksvilletn yo tool coke pepsi family frost victory victoriassecret rust rustic woodcarvingpic twitter com iaelrvqnxg',\n",
              " 'am i right shoutouts indian malayali fun tbt tbs tagging photography iphone users p zs vahu',\n",
              " 'less than hours left with my iphone countdown cantwait byebye apple',\n",
              " 'fallout goty is bucks on steam today and i have no means of playing it whycruelworld',\n",
              " 'thanks for helping fix my what s app and other app issue easily yesterday great apple iphone',\n",
              " 'apple support is crap it s no use calling them all they told me was pay to maybe get help hateapple smh',\n",
              " 'fdvaq xomqqf ghrmkj sir please visit my all fiverr profile it is helpful my profile thanks shopify news sports health trump usa russi food iphone android windows status',\n",
              " 'cuddled up on the floor on this snowday tv drwho relaxed sony appletv the http instagr am p vmya ttsf',\n",
              " 'using apple products at times is like watching an ugly girl form for a guy ontop fone number',\n",
              " 'have to go to the apple store for the fourth time on wednesday gettingold',\n",
              " 'my bestfriend love venice california iphone iphonesia iphoneography califo http instagr am p on td',\n",
              " 'reposting lucero photooftheday me instamood cute iphonesia fashion tbt igers picoftheday food instadaily iphone pic twitter com dtaxttip',\n",
              " 'gain followers rt this must follow me i follow back follow everyone who rts gain iphone sougofollow ff z x',\n",
              " 'upgraded to a galaxy s lte yesterday chuffed awesome phone samsung galaxys',\n",
              " 'armani shades samsung s my alcohol ilove purple pink nonsense bwahaha pic twitter com cbwrhkce',\n",
              " 'oh thanks apple you wiped my phone said that everything will be normal after i backed it up and everything is gone twats',\n",
              " 'koncno je prisel moj s iii nazaj s servisa happy child d and i m back on social media p phone samsung siii onlineagain',\n",
              " 'i can just tell my phone is going to crash i want to unjail break it but of fucking course it won t let me justmyluck',\n",
              " 'what a tbf to our trip to tourist travel travelblogger travelphotography picoftheday photography photooftheday iphonex sky summer hot p bmbjg lr utm source ig twitter share igshid rpsmc lm',\n",
              " 'super slow mo samsungs plus samsung s plus travel travelled travelling slomo superslowmo fun tweeterindia india indianpic twitter com m m jsmf',\n",
              " 'shatterproof my i m going to punch someone in the face pieceof apple iphone notw http instagr am p smava v af',\n",
              " 'yeapp my phone has a nice camera i got some skills too opo oneplus socal rain all http fb me va dw tz',\n",
              " 'apple and itunes wtf burned cd s on x and x and it s cutting off burned another one with nero on x no problem at all',\n",
              " 'wow super pumped i got a new ipod but can t put anything on it cuz my macbook says i can t download the new itunes apple wtf',\n",
              " 'apple maps dark knight parody movie hd http youtu be llyq zye wu via love this microsoft',\n",
              " 'how did you manage that i dropped mine a week ago and broke the top gl bit they told me they can t fix it tho',\n",
              " 'fucking hate apple like thanks for deleting all my shit',\n",
              " 'follow on instagram http mf tt rxcu sup surf fun capetown funny sexy me samsung pic twitter com h btxrucg',\n",
              " 'lesson how to download fonts free on ios to design photos wevm smiv learn more about our junior graphic designer course at our channel apple iphone ipad applewatch dubai tech madewithover apps bestofover design graphic graphicdesignerspic twitter com pq ows a',\n",
              " 'izzi orbit for the iphone delivers top notch photography http buff ly ckyh izzigadgets orbit photolife topnotch iphone',\n",
              " 'an awesome phablet note duos note note samsung',\n",
              " 'photo i could just linger for days and melt with you words instagram twitter iphone night http tumblr com xa xhn fv',\n",
              " 'samsung chief mobile dj koh my trade in phone was lost after saving a year from drowning and your crap company will not help with my trade in value for a new phone samsung samsungdontcare dontcare wft screwyoupic twitter com yapgybhon',\n",
              " 'the new apple app on the iphone keeps crashing and sometimes restarting device when trying to play a mix your update sucks apple',\n",
              " 'well it took time to arrive but i am very much in love with my new ipad thank you mr jobs technology apple',\n",
              " 'little robin hatched over easter monday using a sony rx iii twitter com iopclziban',\n",
              " 'love really does make you do silly things http is gd geap iphone wedding weddingcake macaddict nerd geek apple mac',\n",
              " 'english portuguese audio proverbs app just released listen record learn languages wisdom http dld bz ctrnc iphone ipad',\n",
              " 'my new baby ps gaymer micromania destiny ps white sony playstation gaming game http instagram com p sukc rinq',\n",
              " 'when you have the iphonex and a lifeproof case you can take bomb shower selfies selfie gay instagay gayman scruff pride nofilter joy peace p blrwyi noy utm source ig twitter share igshid jbp x wh ic',\n",
              " 'follow on instagram http mf tt ife b sup surf fun capetown funny sexy me samsung pic twitter com muxywcolqu',\n",
              " 'i got pocket full of happiness to capture excited it white new camera sony nex rl http instagram com p ctmqoybnne',\n",
              " 'i think i m gonna delete some pic from my phone pic iphone full pics instadaily instagood summer http fb me fuuy hbb',\n",
              " 'we are happy to announce off on our entire store use coupon code cross sell aaqnomy iphoneonly iphone iphone musthave it instacool shop shopping onlineshopping instashop instagood instafollow photooftheday picoftheday otstores sma pic twitter com xq nsb fi',\n",
              " 'designed by apple in california iphonex apple iphone appleaddict beautiful p bcibajobdip',\n",
              " 'there is a scary connection between a guy and his iphone ladies you might need to insert versus getting ur nuvaring hook bait',\n",
              " 'thnx for your email today any chance of an android version would make me reconsider ending my subscription please',\n",
              " 'finally managed to get a new battery for my phone feels like an upgrade samsung galaxy',\n",
              " 'teresa giudice heads back to court http dlvr it lnjwjl news photography fashion health fail tech ipad iphone funny lol',\n",
              " 'finally part of the iphonegang iphone c iphone tooexcited pink mylittlebaby follow http instagram com p hcctl gldw',\n",
              " 'sony from the bottom of my heart i would like to say to you where is my update',\n",
              " 'firstpresent from my firstlove dating penguins necklace jewelry mine shiny ig igers iphone pho http instagr am p qupzt',\n",
              " 'look at what i got today dying samsung s phone http instagram com p putjcvssch',\n",
              " 'hateapple music whether i download music import music or it s a compilation when i say my albums i want to see them all',\n",
              " 'so what you re saying is people should micro wave their ipads because i totally agree',\n",
              " 'egg crusher http greenrobot apps net egg crusher razbey zlye yayca html android games news ios apple iphone',\n",
              " 'just a couple of pictures i took photography it samsung galaxy k zoom pic twitter com dx vnz oys',\n",
              " 'apple bee s flow hour made dollars n tips gotta eat good im starving a nice steak koming up',\n",
              " 'reposting walk through the door and on the other side you ll find magic explore landscape photographer beautiful outdoors getoutandexplore slowingitdown ludapix photography beautiful england apple mac macbookpro hashtag nofilter igers nikkorpic twitter com yetsust',\n",
              " 'there must have story camera nikon sony picoftheday free time http instagram com p m a manw',\n",
              " 'unraveling another mystery wired apple headphones grassroots grassroots kava house p bhmlrxybxxu',\n",
              " 'i love having a sony flat screen sony audio unit and a sony ps and having to use different remotes at any given moment',\n",
              " 'i wish to be shoutouts indian malayali fun tbt tbs tagging photography iphone http instagram com p yxzdy paju',\n",
              " 'despise this iphone apparently not enough room for ios so deleted loadsa stuff still not enough apple',\n",
              " 'gain followers rt this must follow me i follow back follow everyone who rts gain iphone sougofollow f k',\n",
              " 'repost from bows over bros y all perfection bows bowlover iphone bowdapr want http instagram com p b qhzamnnz',\n",
              " 'i those analog measuring apparatus like this old barometer haveaniceday french mothersday shotoniphone iphonex kwccze pic twitter com gchijyt zg',\n",
              " 'happy born day to us birthday sibling brother apple iphone p a zvbppbk',\n",
              " 'job search remixed on june th http bit ly oad e jobpounce iphone sinanews lastfm music hiring',\n",
              " 'my favs family life familytime insta instamood iphone snapshot moment picoftheday be http instagr am p r yerdqukd',\n",
              " 'follow on instagram http mf tt efqya sup surf fun capetown funny sexy me samsung pic twitter com e wtofg h',\n",
              " 'guess works frankwilliams ru b weekdays selfie friends foes friday iphone spawn rs art purpose nature humanity piano music friendspic twitter com ak uzij r',\n",
              " 'photo lunch time diet fruits watermellon apple melon yumyum instadelicious instasexy sexy http tmblr co zuzeexiehjlw',\n",
              " 'i want the new ipad and the new iphone s but wait where s the money apple',\n",
              " 'shiny new apple store about to open in kingston upon thames apple shiny gadgets http instagr am p lxsj ikqw',\n",
              " 'on the road on the road new skirt flowers flowerpower mirrorpic new phone samsung http instagram com p m aaumhs',\n",
              " 'photo quote of the day quotes wisdom words smile follow tweetgram me cute iphone fashion http tmblr co zsf etq qegy',\n",
              " 'it didn t work properly anymore so i got a little bit angry apple pic twitter com gzv hkgf',\n",
              " 'freddie with tom uk general picture good god nice day family today rain sony sonynex n v http instagr am p rd hbjas',\n",
              " 'oneplusone is beast of a phone finally bought one now just can t get my hands off it enjoyingmyself thankyou oneplus inlove',\n",
              " 'photo my screenprotector hellokitty bow superkawaii cute ahhhhhhh iphone mirrorpic http tmblr co z gm xfyv bo',\n",
              " 'i dont know what happened have to reinstall all apps oh and it doesnt accept my wifi password anymore so again apple',\n",
              " 'thankyou christmas present samsung galaxy note brunch mine newtoy igers i four ate five http instagr am p tucl oeoyd',\n",
              " 'rt iphone people agree more on iphone page http j mp emlyh iphone http feedzil la lkkin',\n",
              " 'i just bought a tablet that wasn t an ipad yeah get me and my lack of brainwashing controversial',\n",
              " 'follow on instagram http mf tt meuq sup surf fun capetown funny sexy me samsung pic twitter com e b a ozhk',\n",
              " 'followsunday followback rt teamfollowback follow retweet iphone keep doing ya thing',\n",
              " 'event sony years dressedup sonytv congratulations for completing terrific years p eaponijfb',\n",
              " 'new year to all my followers with technical apple news nfl forex traiding binary iphone ipadpic twitter com wctqerxmg',\n",
              " 'so i my phone thought its cute to put itself into recovery mode livid iphoneproblems',\n",
              " 'my bowbun i finally learned how to do it pretty cute highbun sweet iphone fashion http instagr am p osmamlmo d',\n",
              " 'just got this phone not even two weeks ago and the charger cable already doesn t work',\n",
              " 'pink and glitter visit us a bluewater shopping centre iphone pretty sparkle pink applepic twitter com kqjyojnqne',\n",
              " 'got my new apple iphone today apple iphone iphone gold fanboy thrilled p dve xvgx',\n",
              " 'my new little baby macbook macbookpro retina apple luxury proud lady gaga http instagram com p dr nbqngpe',\n",
              " 'a surprise cd delivery from chrismuso today happydays pharrell girl newmusic sony cd http instagram com p li x sir h',\n",
              " 'hey thanks for the follow i d an voicemail message for my iphone',\n",
              " 'why didnt you get iphone ahahahaha jk someone is he got s samsung galaxy phone http instagram com p bw m agco',\n",
              " 'best offer universal smartphone car air vent mount holder cradle compatible with iphonex for geek tech bots deals amazon home iphone ipad gadgets gifts ios cars bike android samsung galaxy google http crwd fr hdleia pic twitter com wrc ybtrgt',\n",
              " 'outings vocation newyear trip thailand khaoko a ilce sony vsco snapspeed http instagram com p xdum l y',\n",
              " 'another customer thanks to for speedy delivery sony k projector set for cinema nightspic twitter com meymjeqs e',\n",
              " 'merry christmas to me d new camera samsung nx camera videos christmas finally http instagram com p iuk sknfys',\n",
              " 'flowers spring flowers spring natura nature naturelovers explore f f fun me iphonesia iphone cu http ift tt qdne i pic twitter com p misdvdp',\n",
              " 'every time they say we re getting new emojis i get my hopes up apple',\n",
              " 'paid for college through the stock market thank you apple aapl for crossing the mark',\n",
              " 'some people would call this a fuck you hashtag yourfirsttweet apple pictures insta',\n",
              " 'please make more smartphones w webos had palm died now have android sstinkybad',\n",
              " 'samsung s next phablet might have the best display ever seen on a phone tech s samsung next phablet might best display ever seen html soc src unv sh soc trk tw via galaxynote samsung',\n",
              " 'make work pretty it won t feel like work ilovemyjob happiness mac apple mpls p hpzwjye',\n",
              " 'hey guys look samsung galaxy s midnight black gb http zpr io ednm money today life amazon birthday sale android windows nokia samsung iphone phone smartphone motorola offers bestprice jul am',\n",
              " 'new year get free minutes to call countries android iphone samsung htc lg promo code twfree http www voxcorp net mobile launcher',\n",
              " 'iphone ksa kuw kuwait q qatar us uae usa iphone apple sale sfssale fun follow http instagram com p n ow q ih',\n",
              " 'if you barely have any games out at all why even release online multiplayer sony multiplayer online ps playstation psn',\n",
              " 'check out my new baby instagram mextagram gift camera samsung buen fin red http instagr am p smbu pnqgw',\n",
              " 'my new phone new phone sony xperiaz black swag instapic instashot novi p bdxrpbnp b',\n",
              " 'like and share if you want this car accessory bag iphone samsung index php product new qualified pc auto car accessory hanging bag drinks phones storage pouch holders levert dropship dig pic twitter com vnilmvsw y',\n",
              " 'loving my ipad except for fact it won t play videos from the sites i visit it won t play adobe flash major apple',\n",
              " 'phone update iphone plus iphone plus iphone iphone apple phone mobile treat upgrade pretty amazing tagsforlikes like like likeforlike followme follow instagood picoftheday photography photooftheday photo bestoftheday cute pic twitter com dc xrxazie',\n",
              " 'doodling from a shadow on the wall samsung galaxynote dog smile http instagram com p cgnefljhhv',\n",
              " 'fucking hell it s going to cost to repair the two cracked corners of the ipad ridiculous',\n",
              " 'finally updated to version something just because apple made me by destroying my phone apple',\n",
              " 'expanding my apply collection slowly finally got my apply tv apple appletv summer pic twitter com x x lzywpi',\n",
              " 'stuck with a phone i didn t even know had been made for about a week badtimes',\n",
              " 'this means i love love and i m from humboldt county nativeamerican picoftheday iphone http instagr am p s ss sgwm',\n",
              " 'rt planet doug compassion iphone cases from zazzle com http j mp nuc sj apple housing jo http bit ly roxip',\n",
              " 'me myself i mumbai life walk instalove igers men me india soi i iphone myself face silhouet pic twitter com dno enbc c',\n",
              " 'whoever said iphone s were the best in the world were wrong mine won t even let me receive calls or texts iphone',\n",
              " 'echobox with you for life earphones headphones music bluetooth instagood like like wireless speakers apple picoftheday followforfollow sound followme likeforlike iphone follow follow headphone tech earphone bluetoothspeaker repostpic twitter com s vu z mt',\n",
              " 'blues blow dugan ruled out of origin i news photography fashion health fail tech ipad iphone funny pic twitter com jbckxc auh',\n",
              " 'sony killed gtav public apologies wont bring back the excidement of unraveling the plot thank you very much',\n",
              " 'my latest impulse buy how beautiful ps toy present game console sony white http instagram com p vop bun x',\n",
              " 'hot deal high tech lightning to usb cable feet for off geek tech bots deals amazon home iphone ipad android samsung galaxy google gadgets gifts ios technews power pc dev http crwd fr emng t pic twitter com zvgbxciqwk',\n",
              " 'my phone is had been charging for hours and is only on and it was on hour ago apple',\n",
              " 'what the fuck apple products suck ipod instagram instadaily what to do http instagram com p bfjp zivai',\n",
              " 'fall beautiful delicious apple crispy healthy strong food foodart yum p cdqacg',\n",
              " 'it s not cming full i had to crop it love this scene in the iphone ios iwatch iphone p n qiyjgye',\n",
              " 'photo preach wale feel foodforthought feelings instagram ig iphone live laugh truth http tmblr co zg elwmbgp e',\n",
              " 'today is hateapple day anand mahindra is also complaining about apple products',\n",
              " 'forget your troubles and share a face emoji ibbleobble imessage stickers apple http apple co fpypvc pic twitter com phznlzpgys',\n",
              " 'happy new phone day to me looking forward to trying out the camera at pastaval this weekend http edamgoodcheeseblog co uk s samsunggalaxys samsung macaroni pasta festivals blog blogger bloggerlife foodblogger foodblog foodbloggers glasgowpic twitter com oghzq sgsp',\n",
              " 'i you iphone protective skins choose your apple iphone model and buy a unique piece of art for your iphone skin while also providing scratch resistance http bit ly iloveyouphone pic twitter com jmmtldxzwk',\n",
              " 'at last watchdogs ubisoft playstation ps sony midnight gaming gamer videogames http instagram com p ofmxqerwfw',\n",
              " 'enjoy a cup of happiness instadrink photooftheday samsung samsunggalaxytab tab p http instagram com p c skyfsm l',\n",
              " 'i you iphone protective skins choose your apple iphone model and buy a unique piece of art for your iphone skin while also providing scratch resistance http bit ly iloveyouphone pic twitter com vmue pecn',\n",
              " 'new phone me me thakyousomuchdad mypic minenow myphone samsung samsunggalaxy http instagram com p lhqpw lk m',\n",
              " 'thanks a lot apple making my iphone a useless non responsive crap ios fail',\n",
              " 'stupid iphone fragile whore i hate you apple why can t the back be titanium again or what ever the fuck it was iphone',\n",
              " 'apple iphone lover iphone s iphone s google picoftheday techfreak gadgets dell http instagram com p mz mmqqbb',\n",
              " 'your apple id login sucks remove your fucking broken security questions system now who made this crap apple security fail',\n",
              " 'gotta love how apple makes premium electronics yet the headphones and charger for my iphone are broken apple goandroid',\n",
              " 'my year old mother simultaneously s hate s my iphone she refers to it as my blackberry ipod',\n",
              " 'my beautiful princess daughter in her hawaiian present cute ig iphone http instagr am p l o u',\n",
              " 'but apple i though big phones were unusable http www youtube com watch v o m lebire apple hypocrits iphone plus iphone launch iphone questions',\n",
              " 'go ipon iphone igers me dream wants igersasia igersph igerspinas follow follower http instagram com p ajqdfspddu',\n",
              " 'hey guys look samsung galaxy s midnight black gb http zpr io nv ib money today life twitch birthday sale android windows nokia samsung iphone phone smartphone motorola offers bestprice jun am',\n",
              " 'come here to mama my new baby gift galaxy samsung white new sweet valentine igers http instagr am p vtnv jmym',\n",
              " 'do ya think my new iphone cover is blingy enough lol it iphone fibourke coustommade http instagram com p ts bzgfls',\n",
              " 'a smile in my room showmeyour happiness smile room sony light art beautiful http instagram com p yykanzro q',\n",
              " 'anything you put your mind to you can become or accomplish it facts miami kingeazzy technology fit apple applestore miamibeach lit smile thankful motivation p bk xh gnuc utm source ig twitter share igshid vtu db akzbc',\n",
              " 'photooftheday instagram iphone nails creativity spiritual rip bro joy nailsbynettie hooked m http instagr am p nwazgkkxqu',\n",
              " 'i think she s trying figure out what s so special about social networks baby iphone http instagram com p hz qvoujli',\n",
              " 'my friend is upsessed with apple gold iphone apple http polyv re v lcb polyvorestyle',\n",
              " 'pcs exquisite squishy random charm in http ebay to yi mr iphone straps toys decor free shop style sales today giveawaypic twitter com s nwuoa sr',\n",
              " 'i love how my washing machine plays a cool little song at the completion of the cycle thanks samsung mondaymorning',\n",
              " 'ipods a peice if anyone wanna sell or give me a new one shitty',\n",
              " 'gain followers rt this must follow me i follow back follow everyone who rts gain iphone sougofollow u',\n",
              " 'my girl loves apples beautiful autumn apple tree nature st ckle garden p bme vomhnja',\n",
              " 'like unique iphonecases then follow my other instagram page cute cases iphone cute',\n",
              " 'love my samsung s dropped it down the toilet today and can confirm it really is water resistant works like a dream still',\n",
              " 'prettiest girl on the block selfie game strong selfie iphonex smile blonde pretty newphone whosdis fresh hearts it p bktg lfq utm source ig twitter share igshid sldai lzpfj',\n",
              " 'merry christmas one of the few times i feel it necessary for me to be in front of the camera rather than behind it christmas sony a mirrorlessgeeks family familytime familyfirst myfamily familyday myfamily familylove http ift tt aluwyh pic twitter com krmip xyh',\n",
              " 'gracias apple trillion positivity motivational awesome positivevibes apple iphone ipad mac winning life p bl b agqj utm source ig twitter share igshid dmpxbsexw fq',\n",
              " 'sheesh i m so typo prone today i think i need a new cell phone my keys are being fucky samsung bebetter',\n",
              " 'yeah bitch hello yeah my hat bonnet it bedroom iphone tuesday night tired baby tiger f http instagr am p s oxm kfmy',\n",
              " 'it actually a shame that apple does not employ a vast amount of people with knowledge of other languages',\n",
              " 'my day is brighter because i ve got a surprise from husband samsung galaxynote pink http instagram com p xxxnypkipo',\n",
              " 'best idea they could come up with fb apple pay for egg freezing sperm donors http nzh tw via fb apple',\n",
              " 'omg i hate apple my iphone is getting on my last nerve i cant wait to get my new phone samsunggalaxy iphoneprobs',\n",
              " 'joe biden donald trump would lead http dlvr it lcjpmf news photography fashion health fail tech ipad iphone funny lol',\n",
              " 'apple now is a plague to technology pathetic patent trolls who just know how to resize their devices and fill lawsuits apple',\n",
              " 'a colleague has bought his first cell phone since it s an apple device and he is sooo to be updated to evolution is more important than innovation oldnews whoneedsinnovation',\n",
              " 'i like locks p instahub instagood iphone locks f f fslc http instagr am p urodngao o',\n",
              " 'mzkelz instagram iphone thanks http instagr am p h pg tt jo ya i love your pics from trinidad muah sorry for your loss',\n",
              " 'apple ceo tim cook don t work for money you will never be http cnb cx kwpczs',\n",
              " 'planet doug compassion iphone cases from zazzle com http j mp nuc sj campaign aplacetolive',\n",
              " 'gain followers rt this must follow me i follow back follow everyone who rts gain iphone sougofollow c c',\n",
              " 'nba player bryce dejean jones http dlvr it lqjn v news photography fashion health fail tech ipad iphone funny lol',\n",
              " 'i hate apple all their products and everything they stand for ya ll are fucking trash garbage for making me delete all my music',\n",
              " 'first pic with my new cellphone me boy guy happines xperiasl android sony igers http instagr am p v p adwgi',\n",
              " 'you know apple products suck when of people in the stores and trying to get their stuff fixed awful applesucks',\n",
              " 'got my new phone today this calls for a selfie newphone samsung galaxys white p bprunb hpef',\n",
              " 'how the fuck do you fix an iphone plus that does phantom touching and you have to bend when the screen stops responding apple',\n",
              " 'me n my bridesmaid white wedding iphone instagram bride bridesmaid memories memory forever o http instagr am p raxobxpkwi',\n",
              " 'q a hi if u like iphone i love it help for sell http goo gl fb hy p iphone helpfor iphone like',\n",
              " 'free fanta instagram instamood picoftheday instagramhub cute beautiful sweet iphonesia iphone http instagr am p nxb tvxdff',\n",
              " 'hello baby come to papa newphone samsung note guerrero house of movies http instagram com p nbtzoluiym',\n",
              " 'bow bridge central park nyc ny nyc newyork newyorkcity manhattan westside nycphotographer nycphotography igers instagood instalike beautiful instagramhub explore exploretocreate iphonesia iphoneonly iphone http ift tt enzyxu pic twitter com bbtoxxhakw',\n",
              " 'chill day sitting at the house playing thinkyoume iphone itunes this game us app think you know me id ls mt',\n",
              " 'updated my itunes and lost all of my playlists and song ratings yet another reason to',\n",
              " 'haven t tried instagram yet here s some reasons to give it a whirl http ow ly xguz iphone',\n",
              " 'i was satisfied with my iphone s until the iphone came out alwaysomethingbiggerandbetter',\n",
              " 'tonight oh you know just another day at work filming pharrell sony musicvideo http instagram com p ea pwtj gv you go boy',\n",
              " 'is it bad that i almost feel like i can breathe easier after i calibrate my monitor apple laptops',\n",
              " 'new year with daniels paper artist samsung galaxy note intelenet th floor pantry http instagr am p t qhogwevp',\n",
              " 'followback instantfollow ifollowback sing sad fun apple friends holiday follow me i will follow back you',\n",
              " 'gain followers rt this must follow me i follow back follow everyone who rts gain iphone sougofollow x',\n",
              " 'pisses rhymes with twas hisses misses kisses click http bit ly rhymeapp rhyme for iphone',\n",
              " 'new digs new display new lease on life apple asos thunderbolt ballerstatus getaroundit http instagram com p z jlbts y',\n",
              " 'gain followers rt this must follow me i follow back follow everyone who rts gain iphone sougofollow v g',\n",
              " 'waiting motorola capture instagram windows lumia lumialove summer waiting p v vihtrp',\n",
              " 'timcook s apple th anniversary apple http bloom bg aa mu via',\n",
              " 'pure innocence a sony adorable adorable cute fun family forever photogenic p grfcyswij',\n",
              " 'steve jobs died with regret because his life didn t flash back before death scumbagapple boycottapple',\n",
              " 'iphone app now health fitness htc one x samsung galaxy tab iphone case can iphone http tinyurl com kwhpfmv',\n",
              " 'excuse me mr milestone i ve already deleted a lot of apps you re still telling me there s not enough space yet motorola',\n",
              " 'changed styling picoftheday ootd hair red brown l l lfl apple bandel p bdvdbiurzsr',\n",
              " 'canoe ride germany beilngries altm hltal family canoe nature samsungph samsung sport water http fb me drkc kit',\n",
              " 'why does my itunes think its acceptable to be a at this time itsnot apple prick',\n",
              " 'the beloved sister girl iphone beauty tree leaves jj instamood imstagram pretty model beautif http instagr am p ulv r',\n",
              " 'i d like to send a big suck it to apple cause my update only took min it apple',\n",
              " 'happy family at bns wiediasetiani funtime bns holiday samsung galaxys http instagram com p ffpwfjgqp',\n",
              " 'so i update my phone and the youtube app gets deleted',\n",
              " 'your songs are like food man skrillex scary monsters iphone http instagr am p klrkuryv',\n",
              " 'my phones been on charge all night and i m on already iphone',\n",
              " 'finally new dress for my baby thanks samsung galaxy s casing colourful new instagram ins http instagr am p uwakoenc v',\n",
              " 'ios games to play with your spouse to bond with my husband we play games together on our phones read about what games i recommend on the blog apps iphone jumanji games boardgames husband wife marriage laugh blog blogger ontheblog article ideaspic twitter com v gy sezup',\n",
              " 'if you take off half a day just to play with your iphone you are a pretentious asshole asshole iphone applesucks',\n",
              " 'hack all wi fi eyfnhl android apps unitedstate cute colors igers iphoneonly guitarplayer iphone',\n",
              " 'people thanks for holding then door for me oh wait ur an apple employee that s why u suck thanks http tmblr co zigsdvtm kx',\n",
              " 'me phone phone samsung picoftheday delighted galaxycrew s instasweet iliketohashtag http instagr am p vsahf r ez',\n",
              " 'day eating more happy more iphonex analoglondon goaloflife eating pizza p bdq e d z',\n",
              " 'gain followers rt this must follow me i follow back follow everyone who rts gain iphone sougofollow ff d g',\n",
              " 'thank you but i don t need your good for nothing phone welovesamsung',\n",
              " 'fuck you phone stop glitching and let me receive my messages iphone butstillloveyou',\n",
              " 'i wanna swing from a chandelier amazing beautiful copenhagen creative composer denmark fun f f hot iconic keepthefaith l l mariajensen music original pop producer red rock soul singer songwriter song universal sony warner worldpic twitter com of lakrzzg',\n",
              " 'after spending full days trying to recover photos from my ipod dropbox has become my savior i could hug you muchlove',\n",
              " 'i will post some more goodies tomorrow of course at affordable prices at all platforms it would make your iphones wanna know more just wait till tomorrow and you will love it iphone iphone iphone iphonex iphone',\n",
              " 'i would like to give a big old fuckyou to apple due to the fact my ipad and iphone will not connect',\n",
              " 'i have an iphone but i think that apple are absolute bastards they don t care about existing customers latest their updates slow down older iphones excuse to preserve the battery reality to force you to buy a new phone i hate apple so much worse than microsoft',\n",
              " 'you couldn t have just added emojis you had to change existing ones samsung galaxy justfuckyou phones',\n",
              " 'please for the love of god stop spamming me to set up apple pay i don t have a compatible fucking card can i turn this spam off apple',\n",
              " 'iphone apple iphone iphone iphone iphone plus applewatch applewatch p boldwr jyeu',\n",
              " 'photo me makeup myself like likeforlike pretty picoftheday ootd igdaily igers iphone http tmblr co z kdawhmfjxn',\n",
              " 'hateapple apple will earn billion because the iphone starts with a pitiful amount of storage http flip it fxm u',\n",
              " 'iphone is slowly braking screens cracked and now won t charge',\n",
              " 'make me happy ps sony playstation untildawn game console black blakk p er kqqnx',\n",
              " 'shot on iphone x iphone apple iphonex wonderful selfie portraitmode p bdh x pgpf',\n",
              " 'right and he invented the i everything too proving he s an assfuck',\n",
              " 'captured moments ep durdledoor is stunning iphone photography youtuber smallyoutuber watch v mkewdjpx w feature share',\n",
              " 'neapple yes confidentiality your voice your choice you do what you want just don t let apple it to the middle man',\n",
              " 'in the meantime i m tweeting off this crappad i mean ipad',\n",
              " 'black friday follow blackfriday banner dailyart photooftheday instagood art artist artoftheday offer blackandwhite me iphonex disenografico artistic inspiration design creative picoftheday graphicdesignpic twitter com fzkgx n a',\n",
              " 'at t debuts new online customer experience http crwd fr evmpsm presdak iphonecase samsungcase followme iphone samsungpic twitter com mfok xpwlp',\n",
              " 'february day o clock iphone apps home screen oclock ultrasound wallpaper her http instagr am p vkgtryga u',\n",
              " 'that sucks my earphones are just months old and now this http yfrog com ijogmj i use them only in the office apple',\n",
              " 'she loves him horse summer nature photo girl life photo igers iphone pic twitter com idrhvyxcbi',\n",
              " 'sibling sister fun girls selfie selca frontcam samsung killthetime potd http instagram com p lc gpbkthq',\n",
              " 'stupid droid y u no show up in my music player and is windows media share motorola',\n",
              " 'if u have used a credit card on the playstation network hackers have stolen million card numbers how about a big for sony',\n",
              " 'jill holmes departs vh as west http dlvr it lcjnmg news photography fashion health fail tech ipad iphone funny lol',\n",
              " 'luke chicago portrait vsco vscocam iphone iphoneonly photography instagood instagram http instagram com p yybvsdgkvv',\n",
              " 'will now have to make appointment for unhelpful year old with job title genius to patronise me and not fox it it',\n",
              " 'i like api changes that throw an exception when it was working in the previous version calayer layerusescoreimagefilters madness',\n",
              " 'iphone by mid my phone will be out of date in less than a year sometimes i apple',\n",
              " 'peace smile happy office mates smile sony photography photos vscom day p bfosls kypb',\n",
              " 'track of the day ultraviolet light my way news photography fashion health fail tech ipad iphone pic twitter com ff oc tg u',\n",
              " 'welcome back into my life i ve missed you dearly iphone http instagram com p wdaqskfcsm',\n",
              " 'this is only the truth tagsforlikes instagood tweegram photooftheday iphone dj blass s crib http instagr am p s kz pgvm',\n",
              " 'hate when my phone starts to not make any sense gurrr iphone iman',\n",
              " 'i m so glad apple finally decided to come out with the white iphone after i got mine realcool apple',\n",
              " 'why people are speculating that http dlvr it lypm news photography fashion health fail tech ipad iphone funny lol',\n",
              " 'well hello there new radio sony ipod music loud b crutchfield pandora yay http instagr am p pfl krjct',\n",
              " 'follow on instagram http mf tt n e sup surf fun capetown funny sexy me samsung pic twitter com dpfrqemf u',\n",
              " 'goodmorning sun bike scooter bluesky spring work newday iphone screen fisheye effect http instagr am p wd ta l gg',\n",
              " 'i can t wait until apple goes bankrupt shittycustomerservice worstdevices million dollar company and i have to pay for help',\n",
              " 'new life with android nougat and samsung galaxy s perfekt batterie life experience noproblempic twitter com hxp ierjm',\n",
              " 'rt rt win an apple macbook air just retweet this and follow to win http bit ly ibavvr',\n",
              " 'photo outif go like me girly jeans vans sweather jacket denim iphone follow http tmblr co zed yu yoi j',\n",
              " 'are preparing to release a foldable phone has filed a patten for a self repairing screen function apple influencer samsunggalaxy tech photooftheday money samsung save gadgets tryit technology motorola in',\n",
              " 'dance partners frankwilliams ru b weekdays selfie friends foes friday iphone spawn rs art purpose nature humanity piano music friendspic twitter com vtquk xluq',\n",
              " 'con los menores bullybrothers bulldogs dog shaggy sony allprofit sleepmode p cbj najs',\n",
              " 'gonna have to buy my th charger for my iphone haven t even had a year iphone chargers are shit',\n",
              " 'waited too long graphicdesign graphic design art artwork maho iphone apple p baetsboawas',\n",
              " 'samsung galaxy s edge gb noir samsung s edge occasion smartphone prixhappy p bfa cusdyii',\n",
              " 'the reason vinyl is so popular today is because you don t need an it dept to play an al hatewindows',\n",
              " 'oh yeah samsung galaxy note is in tha house mobile samsung gsm photooftheday vodafone http instagram com p viee vjtwx',\n",
              " 'it costs to swap my phone out for the exact same phone i currently have just to fix the front camera',\n",
              " 'wine and a good book instagood iphonesia photooftheday instamood igers me cute iphone home http instagr am p pkx umfuh',\n",
              " 'new baby samsung galaxy s newphone sick phone smartphone instahub instapic http instagram com p aenpdehu h',\n",
              " 'bring color to my skies nature eve skies dawn sunset phonephotography samsung vscocam wind naturephotography sunset pics naturelover mood positivevibes twitter com glzwp r',\n",
              " 'get off when you order kids tshirt with discount code twitter check it out http zetasupplies co uk products kids tshirt utm campaign social autopilot utm source tweet utm medium tweet iphone case',\n",
              " 'ugh cant upload any pictures or anything because my computers just deciding to crap out on me apple',\n",
              " 'bought samsung galaxy grand for my mom on her bday birthday in advance duos http instagram com p mfwsrka c',\n",
              " 'and i still don t have os and it s been nearly hours people i m still on block one of backup ffs apple',\n",
              " 'just broke my second ipod this year not happy about this why don t they make screens that don t crack',\n",
              " 'ok let s go sony z paixaodecristo rec hdv equipedelta eita aovivo pacatuba grava o http instagram com p m r wsfyqk',\n",
              " 'trying to remember my activation lock password and email is a apple',\n",
              " 'coz happy is so simple just you and ofcourse the sun couple sun instadaily samsung http instagram com p w g scyvh',\n",
              " 'should be a great hour drive with out my ipod apple',\n",
              " 'the iphone twitter update feels way better to use and faster too',\n",
              " 'conversion photo to video free http goo gl esdqpv android apps beautiful cute colors igers iphoneonly iphone',\n",
              " 'gain followers rt this must follow me i follow back follow everyone who rts gain iphone sougofollow nyv',\n",
              " 'waiting for the iphone iphone iphone leaks rich iphone plus apple applestore stevejobs september samsung iphoneplus',\n",
              " 'new sleeping bag for the pad present marcjacobs ipad apple beaut instaaddict instafashio http instagr am p qzbtc y t',\n",
              " 'bighope to allah pray life hope samsung instagram facebook twitter photogrid notcry http instagram com p juien r dt',\n",
              " 'apple has saved my itunes account the guys from apple s customers support are great thank you bharat from apple d apple awesome',\n",
              " 'photo quotes heart world thinkpink boys girls world pictoftheday photogram iphone http tmblr co zv zsufak am',\n",
              " 'my preggy sister busy with her new note android samsung galaxy excited teacher http instagram com p fxvvaurp',\n",
              " 'thanks papitasfritas for helping me make cool custom pins art nyc sony p bed inagwao',\n",
              " 'ok let s try this again hopefully without losing it in a week lol iphone pic twitter com blqrjukan',\n",
              " 'genius of shoutouts indian malayali fun tbt tbs tagging photography iphone http instagram com p w auz vagv',\n",
              " 'best start to the day sausage sausagesandwich yum tasty apple porkandapple p bbzfqb jcqz',\n",
              " 'fisher price laugh learn learning apple baby toy http bit ly mapibq fisherpricepic twitter com pp aeihvv',\n",
              " 'and on a day when i actually wanted it to take photos of our day trip pissedoff',\n",
              " 'this is the third time today that i ve had to charge my phone iphone',\n",
              " 'it want it have it download the free iphone app today and spread your style itwantithaveit fblogger http ow ly a ifc',\n",
              " 'pics said this would be appreciated here muzzle flash cavitation bullet gotta that iphone slo mo cool funny perfectpic twitter com hh nzggylb',\n",
              " 'good birthday purchase happy with it applewatch spacegray applewatchsport sport apple p pp ylpakb',\n",
              " 'birthday ronnie birthday money vodka balloon lynx wirelesscharger samsung spoilt p bjl isrg gc',\n",
              " 'taking an extra credit survey about my phone literally giving apple the worst reviews ever o o whydoihaveaniphone',\n",
              " 'next race tour du maroc fonzi ehi sbronzidifonzi limitless goodvibes cyclist cyclistlife ride nevergiveup instagood instagramer photooftheday season iphonex picoftheday smile instalike igers man cool lifestyle casablancapic twitter com qo wmco j',\n",
              " 'we would like to wish you an amazing day make every minute count tls today iphone accessories news life april at',\n",
              " 'hello you samsung galaxys borderless phone new nice p btg rfrhclvcjx pklwnra yvqslf or x n i',\n",
              " 'the apple mail program is now starting to this could be the beginning of the end for apple',\n",
              " 'mb apple update currently in it s th minute and seems to have detroyed my pc',\n",
              " 'so far i m loving the magic mouse mouse apple mac http bit ly iamzd',\n",
              " 'hello lovely newphone iphone iphone s apple yay it gold gb p qof fielz',\n",
              " 'our raffle winner of samsung galaxys is ticket no beaboutique stars blue newyear http instagr am p t iq sk uz',\n",
              " 'campaign samsung samsung campaign work photo job model smile nildosalvatori p bvaclxtaudl',\n",
              " 'fat rolls cellulite kim http dlvr it lcgzlx news photography fashion health fail tech ipad iphone funny lol',\n",
              " 'colorsplash iphone i found out my heart was virtually sliding in my hand art me ego designermonday http twitpic com i oh',\n",
              " 'late post but my iphone finally came in yesterday i went with the plus iphone gcu blessed http instagram com p uliu fmhlo',\n",
              " 'can you unlock this level zen block coming soon relax iphone summer sun mobilegame chill music android weekend veganpic twitter com aftayddv',\n",
              " 'follow on instagram http mf tt edvfh sup surf fun capetown funny sexy me samsung pic twitter com so w poy n',\n",
              " 'can u find my instagram iphoneography iphonesia iphone webstagram instago coffee starbucks irini http instagr am p lxgk',\n",
              " 'my black friday was a success black friday smartv samsung in thanksgiving true http instagram com p hsek kmxm',\n",
              " 'well seeing as you have an iphone you clearly less than me so a is acceptable o',\n",
              " 'the prophet as a husband iphone http ift tt bor kb android http ift tt asurcj kindle book march at',\n",
              " 'got that sub goal unbelievable thank you everyone for the support http www twitch tv jdkong twitch twitchtv twitchstreamer twitchaffiliate prime subscribe follow hype ps gaming blessed games sony thankyou smallsteps',\n",
              " 'of of of cecream cream chocolate apple bananas pineapple strawberry fruitsalad http instagram com p ygc nphxnp',\n",
              " 'the stuff dreams are made from nerds iphone clothes iphone fashion juicycouture christianlouboutin http instagr am p i fc',\n",
              " 'do apple i phone in ear headphones actually fit the ears of any human being designingforaliens',\n",
              " 'birthday to me girl samsung tv presets thanksmom grateful surprise http instagr am p syoi lxpb',\n",
              " 'thanks apple for telling me to restore my iphone you forgot to tell me that it will take hours',\n",
              " 'you only live once picoftheday iphone beard ink tattoo yolo rock work on p bnnn auhrbg',\n",
              " 'why you guyz don t provide colour os update or android update novalueformoney',\n",
              " 'will be the year apple comes out with an apple watch for left handed people apple watch applewatch new year',\n",
              " 'once again maps app gets us completely lost that guy deserved to be fired need an app that actually works iphone',\n",
              " 'apple is so fucking stupid something that should be a simple task i can t even do fuck you apple macbookpro apple needsmoarpc',\n",
              " 'when your home button randomly gets stuck and you have to gently press it to open your screen iphone',\n",
              " 'watch tyga squirm away from ross http dlvr it lyr ht news photography fashion health fail tech ipad iphone funny lol',\n",
              " 'wifi haking password zhz lr android apps unitedstate cute colors igers iphoneonly guitarplayer iphone',\n",
              " 'just pre ordered and payed in full my playstation playstation ps nextgen sony',\n",
              " 'people are so annoying about the new iphone its just a phone all phones do the same thing just because its apple its important',\n",
              " 'new display picture iphoneography iphone instagram iphonesia photography photooftheday beautiful i http instagr am p q qgr',\n",
              " 'we would like to wish you an amazing day make every minute count tls today iphone accessories news life may at am',\n",
              " 'apple chargers are the worst i ve bought ten iphone chargers this year two melted you are the worst',\n",
              " 'rt larry hwan me selfie indonesia shopping fun cute style samsung tablet tab design fashion http goo gl we kzd',\n",
              " 'with samsung gear vr shae you are transported to a world where you are healthy and fit pic twitter com eh cxe eqp',\n",
              " 'i my new note so happy i left apple breakup peaceout customer myphonesmybaby samsung',\n",
              " 'finally got a new phone couldnt live without it samsung galaxys samsung blue stallingborough http instagr am p wwhflgdhhc',\n",
              " 'my iphone it sucks keeps screwing up shut off freezes and all that jazz',\n",
              " 'new present apple mini cute katespade tablet toronto ipad yokdale spoiled white http instagram com p z fedmv gw',\n",
              " 'true realtalk girltalk heartbreak true truth quote picoftheday iphone instagirl tattooedgi http instagr am p nvu torqne',\n",
              " 'greatness is a choice streetfighter mortalkombat gameofthrones batman superman superpower superhero wwe dragonballz pokemon fighting onlineshopping tshirt tshirts apparel beauty art quotes meaningfulquotes sexy girl boy kids children iphone pic twitter com ynv yew b',\n",
              " 'got it i simply love it iphone splus iphone newiphone apple pic twitter com os hxuam',\n",
              " 'apple shop visit is needed my volume buttons going to break',\n",
              " 'fuck homework homework suck apple mac pro books wtc twintowers pp http instagr am p rflw chelt',\n",
              " 'my happy cute apple family d loyal apple macbook macbookpro ipad iphone halloween p s bdnbrz',\n",
              " 'winner of a new apple ipod itouch from the cranemachine at beacharcade north rehobothbeach delaware http fb me dhoatruy',\n",
              " 'iphone app elimi flirting is a game play to meet date or new people social network http tinyurl com mqsg f',\n",
              " 'man quid just cause its a flash i cant get any apps on my ipod since they ve updated app softwares',\n",
              " 'just received my new iphone x thank u http bit ly glspiw iphone apple ios appleiphone iphonex phone',\n",
              " 'our deal thank you nang ting hahahaha love yah gift cousin phone samsung vsco http instagram com p paodzgfobf',\n",
              " 'yay finally fixed my apple issue that their geniuses couldn t help me with rockingtherazernowpic twitter com jt vn xbpb',\n",
              " 'eeeekkkkk so happy this came today newtoy electronic dream samsung tablet baby home http instagram com p evfv il rd',\n",
              " 'we ve got high tech apple computers in cl and yet my computer has so many issues that i have to restart it everyday day',\n",
              " 'we would like to wish you an amazing day make every minute count tls today iphone accessories news life february at',\n",
              " 'wow fuck you apple i put a new p code on my ipad then lock it and go put it in and it won t unlock now it s disabled ipad',\n",
              " 'mine didn t even have the decency to split it just concertina d and died pic twitter com w wz s k z',\n",
              " 'this laptop gets on my nerves seriously want a mac fuckpc fuck pcisgay apple http instagram com p akb t t rc',\n",
              " 'so i restored my iphone and it deleted all my music and apps and it still wont sync apple',\n",
              " 'we are to announce the urban christmas stickies appstore imessage urbanplace stickers apple app apple store id pt ct twitter mt',\n",
              " 'invested in k player to match the tv c o prime deals more discs arriving tomorrow tonight i m a visual feast k sony uhd bluray bladerunner bladerunner revenant lifeofpi interstellar themartian tv excited amazondeal amazonprimeday amazonpic twitter com wt hbgurpw',\n",
              " 'finally got my cable and it s meters long d iamhappy samsung usbcable excited pretty http instagram com p blh vur q',\n",
              " 'what more do you need jaffacakes food drink smirnoff green apple vodka bunny night http instagram com p yntjqqk u',\n",
              " 'be reallyreal app approved for iphone ipad dating college http reallyreal com college singlepic twitter com d dzq cxo',\n",
              " 'my birthday present from laura arrived birthday apple appletv p applegeek http instagram com p xmjstvhu z',\n",
              " 'trying to download ios on dad s fone ghante se download he ho rha',\n",
              " 'rt follow follow i justinbieber apple ipad iphone april at amapril at am',\n",
              " 'feel the love and receive off any iphone screen repair for the entire month of february iphone valentinesday crackedscreenpic twitter com at utotabe',\n",
              " 'someone just said something similar i did the update via itunes though',\n",
              " 'cravings vsco instalike vscocam vscoph vscofilter iphone me p brxru eg wo',\n",
              " 'and why does this fucking iphone autocorrect belichick to belichek all the time',\n",
              " 'summer is back summer tshirt iphone gay blue hot selfie mirror wednesday david s house http instagram com p l c geiw',\n",
              " 'good night friends smile laugh work adobe apple illustrator photoshop samsung underarmour hondalife gopro s edgepic twitter com obuiheud m',\n",
              " 'i love when my coworkers give me fruit snacks apple fruitsnack p bjjhorrbux',\n",
              " 'i m wondering if samsungblast in jeans pocket thank god i m not samsung user zaferminhaj status',\n",
              " 'after my trial of apple iphone i will not be getting one i m going to get that samsung smartphone with the bad screen',\n",
              " 'you are my man infinity myman potd live instagood instalove samsung black http instagram com p bjk kxy pg',\n",
              " 'can you say perfect day perfect sunset like iphone mexico http instagram com p l jstptrh',\n",
              " 'i seriously don t care if my iphone tracks me everywhere just shows how much stevejobs cares about me yea i apple that much',\n",
              " 'this apple is a lieee fake apple michaels hungry fatlife http instagr am p w yj pfmd',\n",
              " 'apple iphone s leather case smart apple iphone style swag cool rawagroup p bjnovxbberl',\n",
              " 'wip hpcase samsung note flower cute fun madeforyou handmade craft instacraft by http instagram com p g holiapti',\n",
              " 'photo arguing with their new game psp sony games hobby cousins kids http tmblr co znhbmyz smu',\n",
              " 'yousuck worst mobiles with worst service with worst executives never suggest anyone a samsung mobile',\n",
              " 'xcode installation failed i m told to contact the software manufacturer for assistance apple',\n",
              " 'finally my baby is here samsung galaxy s photooftheday instaphoto world wide followback http instagram com p iw z xk n',\n",
              " 'did a factory reset on my iphone instantly tells me my storage is full bull theres nothing on it apple nostoragemyass',\n",
              " 'beauty shopping aliusaexpress iphone ios app cat s gb unlocked gsm g lte refined rugged ip http ow ly yqmv nz b',\n",
              " 'welcome to the family future samsung s consultancy ilovemyjob bethefirst p bgyyfpfdfpk',\n",
              " 'feeling like buying a galaxy tab and raise my middle finger up to the sky apple',\n",
              " 'yo i ll no longer be on team iphone after i use my upgrade goodbyeiphone apple',\n",
              " 'hey dur cute pretty adorable beautiful girl style makeup awesome moustaches iphone http instagram com p essbyha q',\n",
              " 'finally i have a new phone galaxy samsung muchneeded excited s thenextbigthing http instagram com p tyxtl bkx',\n",
              " 'bought a ps a year ago for the last guardian now it s getting cancelled i am one pissed off person sony',\n",
              " 'apple ios is an absolute hybrid of windows and android yet apple fans say apple innovates microsoft',\n",
              " 'bringing it in focus m m x x metroman moscow bringing in focus as i near conclusion metroman moscow weekend iphone photography artistsontwitter life weekend iphone photography artistsontwitter life pic twitter com irjoqni js',\n",
              " 'you ashole i can t believe u just took this convo there brandnew iphone',\n",
              " 'dear apple i m on to u making me download a huge update that slows my phone down when u come out w a new one for that you get a',\n",
              " 'i don t know why the face is doing in this tweet iphone',\n",
              " 'hateapple why why why does my new updated itunes have far less functionality than its predecessor well done idiots utter rubbish',\n",
              " 'happiness is new gadget gift fromm brotherinlaw samsung tab flying instaddict http instagram com p nydw jtga',\n",
              " 'my hk case came in today hellokitty hk asian phone case iphone obsessed blue white bow http instagr am p osy s i zg',\n",
              " 'just had the shiniest reddest apple my weekend has officially peaked weekend apple fridayfeeling',\n",
              " 'ui ios design app iphone beauty day beauty profile app by graphic on shots day beauty profile app',\n",
              " 'samsung galaxy tab from my lovely mom samsung galaxy tablet gift lymom instagram http instagr am p wgosnqprcj',\n",
              " 'designermonday me art after colorsplash http bit ly hkao brushes http bit ly ozg typedrawing http bit ly xowab iphone',\n",
              " 'when iphone has to be restored the latest back up is from over a month ago if you text called yesterday i don t know ab it',\n",
              " 'razihel bad boy matzo tiesto edm r hab rebound life cool ps sony xboxone http instagram com p myodghj sz',\n",
              " 'the amount of hate i have for apple and itunes is intense',\n",
              " 'great siri with ios only works for iphone s and thenewipad what s wrong with my iphone again apple',\n",
              " 'charge your iphone with comfort mobile power on the go iphone iphone powerbankcase iphone apple accessories gadgets phones paccenter abuja abujafct abujapeople wuse abujaphones gadget abujacity capitalhub buy sales fct services tech retweetpic twitter com fiajxhnzqg',\n",
              " 'suckerrrrr self selfie suck lollypop candy sweet green apple caramel yum tasty girl http instagram com p bh nfohsd',\n",
              " 'new phonecase phonecase case tribal pattern white phone samsung cute beautiful http instagram com p crlfukxdju',\n",
              " 'thank you grandpa grandpa gift cellphone sony xperia z like likeplease http instagram com p xms hjkju',\n",
              " 'just bought the apple wireless keyboard and is stunned about the size it s so tiny in comparison to my old logitechs keyboard',\n",
              " 'valentine in love with love us app love id mt idol rt daughter quote valentineapp iphone',\n",
              " 'no filter needed lavender iphonex portraitmode fave holiday summer dorset floral scent sunshine grow instagram instagood insta instaflower kingston lacy p bldl xmnrxo utm source ig twitter share igshid w asrcnt z t',\n",
              " 'iphone doesn t want to charge on rd party charger its a conspiracy wacksauce',\n",
              " 'valentinesday everyone sday round stone cool frozen snow heart reflection winter sony http goo gl f d y',\n",
              " 'just came in the mail for free iphone case vickys secret pink http instagr am p oruu irm k',\n",
              " 'back to my city life goodnight music art apple iphoneonly calvinklein hair jesus p pfkqglnod',\n",
              " 'follow on instagram http mf tt sbzyp sup surf fun capetown funny sexy me samsung pic twitter com ecm kmfj a',\n",
              " 'now can t drag voice memo from itunes to pc apple up to usual trick trying to lock in shortsighted',\n",
              " 'gain followers rt this must follow me i follow back follow everyone who rts gain iphone sougofollow ur f',\n",
              " 'again sony sony white mdr pair headphone music b treble beat http instagram com p lriil xysr',\n",
              " 'your moby buy a cool gift today sony iphone samsung tablet http buff ly pe vy',\n",
              " 'learn to maths sums with ibbleobble http bit ly enyssf educational maths games kids children kindergarten school schools preschool homeschool homeschooling ipad iphone appletv indiedev playschool learning learnmaths numbers fridayfeelingpic twitter com ysfvny uf',\n",
              " 'looking awesome awesome woodworking greatful yoga iphone money applewatch apple nike solareclipse ridgid ryobi trumppic twitter com d maevtkl',\n",
              " 'new toy ipad apple rdgeneration shopping gift present treatyourself dandelion toy joy q http instagr am p q pkfqy lj',\n",
              " 'bananas widgets so i can see twitter stocks weather etc at a glance the huge screens you can get plus',\n",
              " 'idk if i should download dead nation and infamous and never play either one or just not download anything sony psn playstation',\n",
              " 'i ve gone thru four iphone chargers in days boss badass',\n",
              " ...]"
            ]
          },
          "metadata": {
            "tags": []
          },
          "execution_count": 130
        }
      ]
    },
    {
      "cell_type": "code",
      "metadata": {
        "id": "8b5phyRLK3Gg"
      },
      "source": [
        "token_count = []\n",
        "for i in x:\n",
        "    token_count.append(len(i.split()))"
      ],
      "execution_count": 131,
      "outputs": []
    },
    {
      "cell_type": "code",
      "metadata": {
        "colab": {
          "base_uri": "https://localhost:8080/"
        },
        "id": "t-id2W-PK3B4",
        "outputId": "60a3f258-6261-47d1-cc63-b633d9d76893"
      },
      "source": [
        "# checking the len of average sentences has\n",
        "import statistics\n",
        "import math\n",
        "max_len = math.ceil(statistics.mean(token_count))+5\n",
        "print(max_len)"
      ],
      "execution_count": 132,
      "outputs": [
        {
          "output_type": "stream",
          "text": [
            "25\n"
          ],
          "name": "stdout"
        }
      ]
    },
    {
      "cell_type": "code",
      "metadata": {
        "id": "iIisF86_Gcpb"
      },
      "source": [
        "y = train['label'].values"
      ],
      "execution_count": 133,
      "outputs": []
    },
    {
      "cell_type": "markdown",
      "metadata": {
        "id": "CBv9Wf1-bP7t"
      },
      "source": [
        "# 3.Data Preperation for model"
      ]
    },
    {
      "cell_type": "code",
      "metadata": {
        "id": "-vY8gYl1IUrU"
      },
      "source": [
        "x_tr , x_val ,y_tr , y_val = train_test_split(x,y, test_size = 0.2 , shuffle = True , random_state = 42)"
      ],
      "execution_count": 134,
      "outputs": []
    },
    {
      "cell_type": "code",
      "metadata": {
        "id": "uiHCrDsjI8kU"
      },
      "source": [
        "from keras.preprocessing.text import Tokenizer\n",
        "from keras.preprocessing.sequence import pad_sequences\n",
        "\n",
        "x_tokenizer = Tokenizer()\n",
        "x_tokenizer.fit_on_texts(x_tr)"
      ],
      "execution_count": 135,
      "outputs": []
    },
    {
      "cell_type": "code",
      "metadata": {
        "id": "SMPxKBtCJE5G"
      },
      "source": [
        "count = len(x_tokenizer.word_index)"
      ],
      "execution_count": 136,
      "outputs": []
    },
    {
      "cell_type": "code",
      "metadata": {
        "id": "zwa2fJfxJHLY"
      },
      "source": [
        "x_tokenizer = Tokenizer(num_words=count , oov_token='unk')\n",
        "x_tokenizer.fit_on_texts(x_tr)"
      ],
      "execution_count": 137,
      "outputs": []
    },
    {
      "cell_type": "code",
      "metadata": {
        "id": "2Y3etepqJiC2"
      },
      "source": [
        "x_tr_seq = x_tokenizer.texts_to_sequences(x_tr)\n",
        "x_val_seq = x_tokenizer.texts_to_sequences(x_val)"
      ],
      "execution_count": 138,
      "outputs": []
    },
    {
      "cell_type": "code",
      "metadata": {
        "id": "zb6lyJ0QJ21U"
      },
      "source": [
        "x_tr_seq  = pad_sequences(x_tr_seq, padding ='post', maxlen=max_len)\n",
        "x_val_seq  = pad_sequences(x_val_seq, padding ='post', maxlen=max_len)"
      ],
      "execution_count": 139,
      "outputs": []
    },
    {
      "cell_type": "code",
      "metadata": {
        "colab": {
          "base_uri": "https://localhost:8080/"
        },
        "id": "gbphfiSrKBvz",
        "outputId": "04892149-62a1-4510-ce07-e1f5ba7efcf7"
      },
      "source": [
        "vocab_size = x_tokenizer.num_words+1\n",
        "vocab_size"
      ],
      "execution_count": 140,
      "outputs": [
        {
          "output_type": "execute_result",
          "data": {
            "text/plain": [
              "18760"
            ]
          },
          "metadata": {
            "tags": []
          },
          "execution_count": 140
        }
      ]
    },
    {
      "cell_type": "code",
      "metadata": {
        "colab": {
          "base_uri": "https://localhost:8080/"
        },
        "id": "1yV9shFeKbcd",
        "outputId": "ae6fbfb1-6074-42b3-d5de-bbebe992b66f"
      },
      "source": [
        "x_tr_seq[0]"
      ],
      "execution_count": 141,
      "outputs": [
        {
          "output_type": "execute_result",
          "data": {
            "text/plain": [
              "array([5898, 5899, 5900, 3854, 3855,  876, 2930,   13,    2, 3856,  465,\n",
              "       3857,  624, 1252, 5901,  957, 2021, 2022, 3858,  228, 5902,   16,\n",
              "          7, 5903, 5904], dtype=int32)"
            ]
          },
          "metadata": {
            "tags": []
          },
          "execution_count": 141
        }
      ]
    },
    {
      "cell_type": "markdown",
      "metadata": {
        "id": "qTe3A7iFKd0H"
      },
      "source": [
        "# 4. Model Architecture"
      ]
    },
    {
      "cell_type": "code",
      "metadata": {
        "id": "97uoWGtpMZeB"
      },
      "source": [
        "from keras.models import Sequential\n",
        "from keras.layers import *\n",
        "from keras.callbacks import * "
      ],
      "execution_count": 81,
      "outputs": []
    },
    {
      "cell_type": "code",
      "metadata": {
        "colab": {
          "base_uri": "https://localhost:8080/"
        },
        "id": "k0XjKwVrM1zq",
        "outputId": "c7a62fe1-6ac4-444b-d8ab-5c4dd5d8dcc8"
      },
      "source": [
        "model = Sequential()\n",
        "\n",
        "model.add(Embedding(input_dim=vocab_size, output_dim=200,input_shape = (max_len,),trainable = True,mask_zero=True))\n",
        "\n",
        "model.add(GRU(units=256))\n",
        "\n",
        "model.add(Dense(units = 128, activation='relu'))\n",
        "\n",
        "model.add(Dense(units = 1, activation='sigmoid'))\n",
        "\n",
        "\n",
        "model.summary()"
      ],
      "execution_count": 82,
      "outputs": [
        {
          "output_type": "stream",
          "text": [
            "Model: \"sequential_1\"\n",
            "_________________________________________________________________\n",
            "Layer (type)                 Output Shape              Param #   \n",
            "=================================================================\n",
            "embedding_1 (Embedding)      (None, 25, 200)           3752000   \n",
            "_________________________________________________________________\n",
            "gru_1 (GRU)                  (None, 256)               351744    \n",
            "_________________________________________________________________\n",
            "dense_2 (Dense)              (None, 128)               32896     \n",
            "_________________________________________________________________\n",
            "dense_3 (Dense)              (None, 1)                 129       \n",
            "=================================================================\n",
            "Total params: 4,136,769\n",
            "Trainable params: 4,136,769\n",
            "Non-trainable params: 0\n",
            "_________________________________________________________________\n"
          ],
          "name": "stdout"
        }
      ]
    },
    {
      "cell_type": "code",
      "metadata": {
        "id": "G4OH5ap0T7J9"
      },
      "source": [
        "# Compile the model\n",
        "model.compile(optimizer = \"adam\" , loss = 'binary_crossentropy' , metrics = ['accuracy'])"
      ],
      "execution_count": 83,
      "outputs": []
    },
    {
      "cell_type": "code",
      "metadata": {
        "id": "lmNhPEFCN7fm"
      },
      "source": [
        "# Define the model call backs to save the best features\n",
        "model_callback = ModelCheckpoint(\"/content/drive/MyDrive/RNN ASSIGNMENT DATASET/SentimentAnalysisIIWeights.best.hdf5\",\n",
        "                                 save_best_only=True,\n",
        "                                 monitor = \"val_loss\",\n",
        "                                 mode ='min',\n",
        "                                 verbose = 1)"
      ],
      "execution_count": 84,
      "outputs": []
    },
    {
      "cell_type": "code",
      "metadata": {
        "colab": {
          "base_uri": "https://localhost:8080/"
        },
        "id": "-5SN9ZQ4O1rp",
        "outputId": "dc07cb82-fc03-45ab-b896-aa912d568cf5"
      },
      "source": [
        "# Train the model\n",
        "model.fit(x_tr_seq, y_tr,batch_size = 64, epochs=10,validation_data=(x_val_seq,y_val),callbacks=[model_callback])"
      ],
      "execution_count": 85,
      "outputs": [
        {
          "output_type": "stream",
          "text": [
            "Epoch 1/10\n",
            "99/99 [==============================] - 36s 137ms/step - loss: 0.4327 - accuracy: 0.8001 - val_loss: 0.2441 - val_accuracy: 0.8895\n",
            "\n",
            "Epoch 00001: val_loss improved from inf to 0.24410, saving model to /content/drive/MyDrive/RNN ASSIGNMENT DATASET/SentimentAnalysisIIWeights.best.hdf5\n",
            "Epoch 2/10\n",
            "99/99 [==============================] - 12s 118ms/step - loss: 0.1562 - accuracy: 0.9386 - val_loss: 0.3056 - val_accuracy: 0.8687\n",
            "\n",
            "Epoch 00002: val_loss did not improve from 0.24410\n",
            "Epoch 3/10\n",
            "99/99 [==============================] - 12s 117ms/step - loss: 0.0717 - accuracy: 0.9735 - val_loss: 0.8893 - val_accuracy: 0.7626\n",
            "\n",
            "Epoch 00003: val_loss did not improve from 0.24410\n",
            "Epoch 4/10\n",
            "99/99 [==============================] - 12s 122ms/step - loss: 0.0283 - accuracy: 0.9902 - val_loss: 0.8140 - val_accuracy: 0.7216\n",
            "\n",
            "Epoch 00004: val_loss did not improve from 0.24410\n",
            "Epoch 5/10\n",
            "99/99 [==============================] - 12s 119ms/step - loss: 0.0220 - accuracy: 0.9946 - val_loss: 1.8089 - val_accuracy: 0.6799\n",
            "\n",
            "Epoch 00005: val_loss did not improve from 0.24410\n",
            "Epoch 6/10\n",
            "99/99 [==============================] - 12s 117ms/step - loss: 0.0219 - accuracy: 0.9933 - val_loss: 1.3226 - val_accuracy: 0.7569\n",
            "\n",
            "Epoch 00006: val_loss did not improve from 0.24410\n",
            "Epoch 7/10\n",
            "99/99 [==============================] - 12s 120ms/step - loss: 0.0103 - accuracy: 0.9967 - val_loss: 1.6351 - val_accuracy: 0.7134\n",
            "\n",
            "Epoch 00007: val_loss did not improve from 0.24410\n",
            "Epoch 8/10\n",
            "99/99 [==============================] - 12s 120ms/step - loss: 0.0069 - accuracy: 0.9986 - val_loss: 1.8651 - val_accuracy: 0.6919\n",
            "\n",
            "Epoch 00008: val_loss did not improve from 0.24410\n",
            "Epoch 9/10\n",
            "99/99 [==============================] - 12s 118ms/step - loss: 0.0047 - accuracy: 0.9988 - val_loss: 2.0524 - val_accuracy: 0.6932\n",
            "\n",
            "Epoch 00009: val_loss did not improve from 0.24410\n",
            "Epoch 10/10\n",
            "99/99 [==============================] - 12s 118ms/step - loss: 0.0020 - accuracy: 0.9992 - val_loss: 3.3569 - val_accuracy: 0.6181\n",
            "\n",
            "Epoch 00010: val_loss did not improve from 0.24410\n"
          ],
          "name": "stdout"
        },
        {
          "output_type": "execute_result",
          "data": {
            "text/plain": [
              "<keras.callbacks.History at 0x7fe36794f890>"
            ]
          },
          "metadata": {
            "tags": []
          },
          "execution_count": 85
        }
      ]
    },
    {
      "cell_type": "code",
      "metadata": {
        "id": "YevVj84fPH8l"
      },
      "source": [
        "# Load the model\n",
        "model.load_weights(\"/content/drive/MyDrive/RNN ASSIGNMENT DATASET/SentimentAnalysisIIWeights.best.hdf5\")\n",
        "pred_prob = model.predict(x_val_seq)"
      ],
      "execution_count": 86,
      "outputs": []
    },
    {
      "cell_type": "code",
      "metadata": {
        "colab": {
          "base_uri": "https://localhost:8080/"
        },
        "id": "iLMwgTTdP2MV",
        "outputId": "2f45b9ad-2828-4e51-d686-48200db817dc"
      },
      "source": [
        "pred_prob[0]"
      ],
      "execution_count": 87,
      "outputs": [
        {
          "output_type": "execute_result",
          "data": {
            "text/plain": [
              "array([0.00058809], dtype=float32)"
            ]
          },
          "metadata": {
            "tags": []
          },
          "execution_count": 87
        }
      ]
    },
    {
      "cell_type": "markdown",
      "metadata": {
        "id": "uunIi3rIfY_S"
      },
      "source": [
        "# finding the optmial value that will able to classify the model"
      ]
    },
    {
      "cell_type": "code",
      "metadata": {
        "id": "Y-RK01IjQAjp"
      },
      "source": [
        "def classify(pred_prob,thres):\n",
        "    y_pred = []\n",
        "    for i in pred_prob:\n",
        "        if i > thres:\n",
        "            y_pred.append(1)\n",
        "        else:\n",
        "            y_pred.append(0)\n",
        "    return y_pred"
      ],
      "execution_count": 142,
      "outputs": []
    },
    {
      "cell_type": "code",
      "metadata": {
        "id": "9J2zC6zbQMht"
      },
      "source": [
        "y_pred = np.array(classify(pred_prob,0.5))"
      ],
      "execution_count": 143,
      "outputs": []
    },
    {
      "cell_type": "code",
      "metadata": {
        "colab": {
          "base_uri": "https://localhost:8080/"
        },
        "id": "xlaUikCERn3X",
        "outputId": "ecc1e6e2-8494-400a-d038-f787782ac31f"
      },
      "source": [
        "type(y_pred)"
      ],
      "execution_count": 144,
      "outputs": [
        {
          "output_type": "execute_result",
          "data": {
            "text/plain": [
              "numpy.ndarray"
            ]
          },
          "metadata": {
            "tags": []
          },
          "execution_count": 144
        }
      ]
    },
    {
      "cell_type": "code",
      "metadata": {
        "colab": {
          "base_uri": "https://localhost:8080/"
        },
        "id": "c6EMRNpQRjXU",
        "outputId": "096c9c36-8140-4b98-abf7-586d2b68d39f"
      },
      "source": [
        "type(y_val)"
      ],
      "execution_count": 145,
      "outputs": [
        {
          "output_type": "execute_result",
          "data": {
            "text/plain": [
              "numpy.ndarray"
            ]
          },
          "metadata": {
            "tags": []
          },
          "execution_count": 145
        }
      ]
    },
    {
      "cell_type": "code",
      "metadata": {
        "colab": {
          "base_uri": "https://localhost:8080/"
        },
        "id": "Tpf3dBxDRV0X",
        "outputId": "6208f44f-b615-45e8-bbba-c5a5132f623c"
      },
      "source": [
        "from sklearn.metrics import f1_score, classification_report\n",
        "\n",
        "print(f1_score(y_val,y_pred))"
      ],
      "execution_count": 146,
      "outputs": [
        {
          "output_type": "stream",
          "text": [
            "0.78300803673938\n"
          ],
          "name": "stdout"
        }
      ]
    },
    {
      "cell_type": "code",
      "metadata": {
        "colab": {
          "base_uri": "https://localhost:8080/"
        },
        "id": "3D6Yzk_8RWib",
        "outputId": "16804558-0b84-461f-e34c-87781bcaf929"
      },
      "source": [
        "print(classification_report(y_val , y_pred))"
      ],
      "execution_count": 147,
      "outputs": [
        {
          "output_type": "stream",
          "text": [
            "              precision    recall  f1-score   support\n",
            "\n",
            "           0       0.92      0.91      0.92      1152\n",
            "           1       0.78      0.79      0.78       432\n",
            "\n",
            "    accuracy                           0.88      1584\n",
            "   macro avg       0.85      0.85      0.85      1584\n",
            "weighted avg       0.88      0.88      0.88      1584\n",
            "\n"
          ],
          "name": "stdout"
        }
      ]
    },
    {
      "cell_type": "markdown",
      "metadata": {
        "id": "D2OrxBF8f4WB"
      },
      "source": [
        "# show inference"
      ]
    },
    {
      "cell_type": "code",
      "metadata": {
        "id": "1EH4JogISBce"
      },
      "source": [
        "def predict_tag(comment):\n",
        "\n",
        "    text = []\n",
        "\n",
        "    # preprocess text\n",
        "    text = [cleaner(comment)]\n",
        "\n",
        "    # convert to integers sequences\n",
        "    seq = x_tokenizer.texts_to_sequences(text)\n",
        "\n",
        "    # pad the sequences\n",
        "    pad_seq = pad_sequences(seq, padding= 'post', maxlen=max_len)\n",
        "\n",
        "    # make predictions\n",
        "    pred_prob = model.predict(pad_seq)\n",
        "    classes = np.array(classify(pred_prob, 0.5))\n",
        "\n",
        "    # classes = np.array([classes])\n",
        "    # classes = mlb.inverse_transform(classes)\n",
        "    return classes"
      ],
      "execution_count": 148,
      "outputs": []
    },
    {
      "cell_type": "code",
      "metadata": {
        "colab": {
          "base_uri": "https://localhost:8080/",
          "height": 202
        },
        "id": "3lyg1YP-CcOs",
        "outputId": "dfb3dfba-ce94-48eb-86ba-ce45449ceb06"
      },
      "source": [
        "test.head()"
      ],
      "execution_count": 149,
      "outputs": [
        {
          "output_type": "execute_result",
          "data": {
            "text/html": [
              "<div>\n",
              "<style scoped>\n",
              "    .dataframe tbody tr th:only-of-type {\n",
              "        vertical-align: middle;\n",
              "    }\n",
              "\n",
              "    .dataframe tbody tr th {\n",
              "        vertical-align: top;\n",
              "    }\n",
              "\n",
              "    .dataframe thead th {\n",
              "        text-align: right;\n",
              "    }\n",
              "</style>\n",
              "<table border=\"1\" class=\"dataframe\">\n",
              "  <thead>\n",
              "    <tr style=\"text-align: right;\">\n",
              "      <th></th>\n",
              "      <th>id</th>\n",
              "      <th>tweet</th>\n",
              "    </tr>\n",
              "  </thead>\n",
              "  <tbody>\n",
              "    <tr>\n",
              "      <th>0</th>\n",
              "      <td>7921</td>\n",
              "      <td>I hate the new #iphone upgrade. Won't let me d...</td>\n",
              "    </tr>\n",
              "    <tr>\n",
              "      <th>1</th>\n",
              "      <td>7922</td>\n",
              "      <td>currently shitting my fucking pants. #apple #i...</td>\n",
              "    </tr>\n",
              "    <tr>\n",
              "      <th>2</th>\n",
              "      <td>7923</td>\n",
              "      <td>I'd like to puts some CD-ROMS on my iPad, is t...</td>\n",
              "    </tr>\n",
              "    <tr>\n",
              "      <th>3</th>\n",
              "      <td>7924</td>\n",
              "      <td>My ipod is officially dead. I lost all my pict...</td>\n",
              "    </tr>\n",
              "    <tr>\n",
              "      <th>4</th>\n",
              "      <td>7925</td>\n",
              "      <td>Been fighting iTunes all night! I only want th...</td>\n",
              "    </tr>\n",
              "  </tbody>\n",
              "</table>\n",
              "</div>"
            ],
            "text/plain": [
              "     id                                              tweet\n",
              "0  7921  I hate the new #iphone upgrade. Won't let me d...\n",
              "1  7922  currently shitting my fucking pants. #apple #i...\n",
              "2  7923  I'd like to puts some CD-ROMS on my iPad, is t...\n",
              "3  7924  My ipod is officially dead. I lost all my pict...\n",
              "4  7925  Been fighting iTunes all night! I only want th..."
            ]
          },
          "metadata": {
            "tags": []
          },
          "execution_count": 149
        }
      ]
    },
    {
      "cell_type": "code",
      "metadata": {
        "colab": {
          "base_uri": "https://localhost:8080/",
          "height": 35
        },
        "id": "2R_hZ_s2Dgaz",
        "outputId": "131fb84f-d03a-4957-d60b-28189a257f20"
      },
      "source": [
        "test.iloc[0,1]"
      ],
      "execution_count": 150,
      "outputs": [
        {
          "output_type": "execute_result",
          "data": {
            "application/vnd.google.colaboratory.intrinsic+json": {
              "type": "string"
            },
            "text/plain": [
              "\"I hate the new #iphone upgrade. Won't let me download apps. #ugh #apple sucks\""
            ]
          },
          "metadata": {
            "tags": []
          },
          "execution_count": 150
        }
      ]
    },
    {
      "cell_type": "code",
      "metadata": {
        "id": "aq2OKj9ODmcO",
        "colab": {
          "base_uri": "https://localhost:8080/"
        },
        "outputId": "c4ffe324-9420-4936-95de-a8650083a81c"
      },
      "source": [
        "r = predict_tag(\"I love iphone\")\n",
        "print(r)"
      ],
      "execution_count": 151,
      "outputs": [
        {
          "output_type": "stream",
          "text": [
            "[0]\n"
          ],
          "name": "stdout"
        }
      ]
    },
    {
      "cell_type": "code",
      "metadata": {
        "id": "VUAIR4DODsIM"
      },
      "source": [
        "test_gru = test\n",
        "y_pred = []\n",
        "for i in test_gru['tweet']:\n",
        "    if predict_tag(i)==1:\n",
        "        y_pred.append(1)\n",
        "    else:\n",
        "        y_pred.append(0)"
      ],
      "execution_count": 152,
      "outputs": []
    },
    {
      "cell_type": "code",
      "metadata": {
        "id": "MLXF2zn_Fq7d"
      },
      "source": [
        "test_gru['label'] = y_pred"
      ],
      "execution_count": 101,
      "outputs": []
    },
    {
      "cell_type": "code",
      "metadata": {
        "colab": {
          "base_uri": "https://localhost:8080/",
          "height": 202
        },
        "id": "oDh9mzv3HkJH",
        "outputId": "44740813-4db9-47f7-9fb3-5536b01d2340"
      },
      "source": [
        "test_gru.head()"
      ],
      "execution_count": 115,
      "outputs": [
        {
          "output_type": "execute_result",
          "data": {
            "text/html": [
              "<div>\n",
              "<style scoped>\n",
              "    .dataframe tbody tr th:only-of-type {\n",
              "        vertical-align: middle;\n",
              "    }\n",
              "\n",
              "    .dataframe tbody tr th {\n",
              "        vertical-align: top;\n",
              "    }\n",
              "\n",
              "    .dataframe thead th {\n",
              "        text-align: right;\n",
              "    }\n",
              "</style>\n",
              "<table border=\"1\" class=\"dataframe\">\n",
              "  <thead>\n",
              "    <tr style=\"text-align: right;\">\n",
              "      <th></th>\n",
              "      <th>id</th>\n",
              "      <th>label</th>\n",
              "    </tr>\n",
              "  </thead>\n",
              "  <tbody>\n",
              "    <tr>\n",
              "      <th>0</th>\n",
              "      <td>7921</td>\n",
              "      <td>1</td>\n",
              "    </tr>\n",
              "    <tr>\n",
              "      <th>1</th>\n",
              "      <td>7922</td>\n",
              "      <td>1</td>\n",
              "    </tr>\n",
              "    <tr>\n",
              "      <th>2</th>\n",
              "      <td>7923</td>\n",
              "      <td>1</td>\n",
              "    </tr>\n",
              "    <tr>\n",
              "      <th>3</th>\n",
              "      <td>7924</td>\n",
              "      <td>1</td>\n",
              "    </tr>\n",
              "    <tr>\n",
              "      <th>4</th>\n",
              "      <td>7925</td>\n",
              "      <td>1</td>\n",
              "    </tr>\n",
              "  </tbody>\n",
              "</table>\n",
              "</div>"
            ],
            "text/plain": [
              "     id  label\n",
              "0  7921      1\n",
              "1  7922      1\n",
              "2  7923      1\n",
              "3  7924      1\n",
              "4  7925      1"
            ]
          },
          "metadata": {
            "tags": []
          },
          "execution_count": 115
        }
      ]
    },
    {
      "cell_type": "code",
      "metadata": {
        "id": "WEg8GwkLOM6W"
      },
      "source": [
        "test_gru.drop(['tweet'], axis =1,inplace=True)"
      ],
      "execution_count": 103,
      "outputs": []
    },
    {
      "cell_type": "code",
      "metadata": {
        "colab": {
          "base_uri": "https://localhost:8080/",
          "height": 202
        },
        "id": "KotnTOdNTRO1",
        "outputId": "40c95930-34ba-452d-df27-8aa82750634d"
      },
      "source": [
        "test_gru.head()"
      ],
      "execution_count": 104,
      "outputs": [
        {
          "output_type": "execute_result",
          "data": {
            "text/html": [
              "<div>\n",
              "<style scoped>\n",
              "    .dataframe tbody tr th:only-of-type {\n",
              "        vertical-align: middle;\n",
              "    }\n",
              "\n",
              "    .dataframe tbody tr th {\n",
              "        vertical-align: top;\n",
              "    }\n",
              "\n",
              "    .dataframe thead th {\n",
              "        text-align: right;\n",
              "    }\n",
              "</style>\n",
              "<table border=\"1\" class=\"dataframe\">\n",
              "  <thead>\n",
              "    <tr style=\"text-align: right;\">\n",
              "      <th></th>\n",
              "      <th>id</th>\n",
              "      <th>label</th>\n",
              "    </tr>\n",
              "  </thead>\n",
              "  <tbody>\n",
              "    <tr>\n",
              "      <th>0</th>\n",
              "      <td>7921</td>\n",
              "      <td>1</td>\n",
              "    </tr>\n",
              "    <tr>\n",
              "      <th>1</th>\n",
              "      <td>7922</td>\n",
              "      <td>1</td>\n",
              "    </tr>\n",
              "    <tr>\n",
              "      <th>2</th>\n",
              "      <td>7923</td>\n",
              "      <td>1</td>\n",
              "    </tr>\n",
              "    <tr>\n",
              "      <th>3</th>\n",
              "      <td>7924</td>\n",
              "      <td>1</td>\n",
              "    </tr>\n",
              "    <tr>\n",
              "      <th>4</th>\n",
              "      <td>7925</td>\n",
              "      <td>1</td>\n",
              "    </tr>\n",
              "  </tbody>\n",
              "</table>\n",
              "</div>"
            ],
            "text/plain": [
              "     id  label\n",
              "0  7921      1\n",
              "1  7922      1\n",
              "2  7923      1\n",
              "3  7924      1\n",
              "4  7925      1"
            ]
          },
          "metadata": {
            "tags": []
          },
          "execution_count": 104
        }
      ]
    },
    {
      "cell_type": "code",
      "metadata": {
        "id": "nJwFzHoQTUOR"
      },
      "source": [
        "test_gru.to_csv('resulted_GRU.csv', index = False)"
      ],
      "execution_count": 105,
      "outputs": []
    },
    {
      "cell_type": "markdown",
      "metadata": {
        "id": "gX5f23azhVbO"
      },
      "source": [
        "# CNN MODEL FOR SENTIMENT ANALYSIS"
      ]
    },
    {
      "cell_type": "code",
      "metadata": {
        "id": "fO-BFkDKT2Ns",
        "colab": {
          "base_uri": "https://localhost:8080/"
        },
        "outputId": "39a75e92-8976-4045-f6f5-4cb9774f3e5e"
      },
      "source": [
        "model_conv = Sequential()\n",
        "model_conv.add(Embedding(input_dim=vocab_size, output_dim=100,trainable = True,input_shape = (max_len,)))\n",
        "model_conv.add(Conv1D(filters=64, kernel_size=3, padding='same'))\n",
        "model_conv.add(Dropout(0.1))\n",
        "model_conv.add(GlobalMaxPooling1D())\n",
        "model_conv.add(Dense(units=128,activation='relu'))\n",
        "model_conv.add(Dense(units=1,activation='sigmoid'))\n",
        "model_conv.summary()"
      ],
      "execution_count": 106,
      "outputs": [
        {
          "output_type": "stream",
          "text": [
            "Model: \"sequential_2\"\n",
            "_________________________________________________________________\n",
            "Layer (type)                 Output Shape              Param #   \n",
            "=================================================================\n",
            "embedding_2 (Embedding)      (None, 25, 100)           1876000   \n",
            "_________________________________________________________________\n",
            "conv1d (Conv1D)              (None, 25, 64)            19264     \n",
            "_________________________________________________________________\n",
            "dropout (Dropout)            (None, 25, 64)            0         \n",
            "_________________________________________________________________\n",
            "global_max_pooling1d (Global (None, 64)                0         \n",
            "_________________________________________________________________\n",
            "dense_4 (Dense)              (None, 128)               8320      \n",
            "_________________________________________________________________\n",
            "dense_5 (Dense)              (None, 1)                 129       \n",
            "=================================================================\n",
            "Total params: 1,903,713\n",
            "Trainable params: 1,903,713\n",
            "Non-trainable params: 0\n",
            "_________________________________________________________________\n"
          ],
          "name": "stdout"
        }
      ]
    },
    {
      "cell_type": "code",
      "metadata": {
        "colab": {
          "base_uri": "https://localhost:8080/"
        },
        "id": "HXEcjgxwhUuR",
        "outputId": "777186a4-7939-426b-91d8-62ddb8152852"
      },
      "source": [
        "# Compile the model\n",
        "model_conv.compile(optimizer = \"adam\" , loss = 'binary_crossentropy' , metrics = ['accuracy'])\n",
        "\n",
        "# Define the model call backs to save the best features\n",
        "model_conv_callback = ModelCheckpoint(\"/content/drive/MyDrive/RNN ASSIGNMENT DATASET/SentimentAnalysisIIWeights_CNN.best.hdf5\",\n",
        "                                 save_best_only=True,\n",
        "                                 monitor = \"val_loss\",\n",
        "                                 mode ='min',\n",
        "                                 verbose = 1)\n",
        "# Train the model\n",
        "model_conv.fit(x_tr_seq, y_tr,batch_size = 64, epochs=10,validation_data=(x_val_seq,y_val),callbacks=[model_conv_callback])\n",
        "\n",
        "\n",
        "# Load the model\n",
        "model_conv.load_weights(\"/content/drive/MyDrive/RNN ASSIGNMENT DATASET/SentimentAnalysisIIWeights_CNN.best.hdf5\")\n",
        "pred_prob = model_conv.predict(x_val_seq)"
      ],
      "execution_count": 107,
      "outputs": [
        {
          "output_type": "stream",
          "text": [
            "Epoch 1/10\n",
            "99/99 [==============================] - 5s 27ms/step - loss: 0.5246 - accuracy: 0.7599 - val_loss: 0.2881 - val_accuracy: 0.8794\n",
            "\n",
            "Epoch 00001: val_loss improved from inf to 0.28811, saving model to /content/drive/MyDrive/RNN ASSIGNMENT DATASET/SentimentAnalysisIIWeights_CNN.best.hdf5\n",
            "Epoch 2/10\n",
            "99/99 [==============================] - 2s 24ms/step - loss: 0.2288 - accuracy: 0.9103 - val_loss: 0.2570 - val_accuracy: 0.8807\n",
            "\n",
            "Epoch 00002: val_loss improved from 0.28811 to 0.25696, saving model to /content/drive/MyDrive/RNN ASSIGNMENT DATASET/SentimentAnalysisIIWeights_CNN.best.hdf5\n",
            "Epoch 3/10\n",
            "99/99 [==============================] - 2s 22ms/step - loss: 0.1138 - accuracy: 0.9642 - val_loss: 0.3201 - val_accuracy: 0.8611\n",
            "\n",
            "Epoch 00003: val_loss did not improve from 0.25696\n",
            "Epoch 4/10\n",
            "99/99 [==============================] - 2s 23ms/step - loss: 0.0471 - accuracy: 0.9883 - val_loss: 0.4016 - val_accuracy: 0.8497\n",
            "\n",
            "Epoch 00004: val_loss did not improve from 0.25696\n",
            "Epoch 5/10\n",
            "99/99 [==============================] - 2s 23ms/step - loss: 0.0178 - accuracy: 0.9966 - val_loss: 0.4802 - val_accuracy: 0.8441\n",
            "\n",
            "Epoch 00005: val_loss did not improve from 0.25696\n",
            "Epoch 6/10\n",
            "99/99 [==============================] - 2s 23ms/step - loss: 0.0094 - accuracy: 0.9985 - val_loss: 0.5232 - val_accuracy: 0.8384\n",
            "\n",
            "Epoch 00006: val_loss did not improve from 0.25696\n",
            "Epoch 7/10\n",
            "99/99 [==============================] - 2s 23ms/step - loss: 0.0050 - accuracy: 0.9991 - val_loss: 0.5750 - val_accuracy: 0.8371\n",
            "\n",
            "Epoch 00007: val_loss did not improve from 0.25696\n",
            "Epoch 8/10\n",
            "99/99 [==============================] - 2s 22ms/step - loss: 0.0036 - accuracy: 0.9995 - val_loss: 0.6459 - val_accuracy: 0.8340\n",
            "\n",
            "Epoch 00008: val_loss did not improve from 0.25696\n",
            "Epoch 9/10\n",
            "99/99 [==============================] - 2s 21ms/step - loss: 0.0040 - accuracy: 0.9994 - val_loss: 0.6690 - val_accuracy: 0.8308\n",
            "\n",
            "Epoch 00009: val_loss did not improve from 0.25696\n",
            "Epoch 10/10\n",
            "99/99 [==============================] - 2s 21ms/step - loss: 0.0023 - accuracy: 0.9997 - val_loss: 0.7119 - val_accuracy: 0.8277\n",
            "\n",
            "Epoch 00010: val_loss did not improve from 0.25696\n"
          ],
          "name": "stdout"
        }
      ]
    },
    {
      "cell_type": "code",
      "metadata": {
        "id": "h0_iqJ6DhT1Z"
      },
      "source": [
        "def classify(pred_prob,thres):\n",
        "    y_pred = []\n",
        "    for i in pred_prob:\n",
        "        if i > thres:\n",
        "            y_pred.append(1)\n",
        "        else:\n",
        "            y_pred.append(0)\n",
        "    return y_pred"
      ],
      "execution_count": 108,
      "outputs": []
    },
    {
      "cell_type": "code",
      "metadata": {
        "colab": {
          "base_uri": "https://localhost:8080/"
        },
        "id": "KbWae1npiPTc",
        "outputId": "81492d95-ff2d-4c23-db70-50df6f74b43c"
      },
      "source": [
        "from sklearn.metrics import f1_score, classification_report\n",
        "\n",
        "y_pred = np.array(classify(pred_prob,0.5))\n",
        "print(f1_score(y_val,y_pred))\n",
        "print(classification_report(y_val , y_pred))"
      ],
      "execution_count": 109,
      "outputs": [
        {
          "output_type": "stream",
          "text": [
            "0.78300803673938\n",
            "              precision    recall  f1-score   support\n",
            "\n",
            "           0       0.92      0.91      0.92      1152\n",
            "           1       0.78      0.79      0.78       432\n",
            "\n",
            "    accuracy                           0.88      1584\n",
            "   macro avg       0.85      0.85      0.85      1584\n",
            "weighted avg       0.88      0.88      0.88      1584\n",
            "\n"
          ],
          "name": "stdout"
        }
      ]
    },
    {
      "cell_type": "markdown",
      "metadata": {
        "id": "_hJqg1VFiaLT"
      },
      "source": [
        "# Show Inference"
      ]
    },
    {
      "cell_type": "code",
      "metadata": {
        "id": "4yUFKEeaik1M"
      },
      "source": [
        "def predict_tag_CNN(comment):\n",
        "\n",
        "    text = []\n",
        "\n",
        "    # preprocess text\n",
        "    text = [cleaner(comment)]\n",
        "\n",
        "    # convert to integers sequences\n",
        "    seq = x_tokenizer.texts_to_sequences(text)\n",
        "\n",
        "    # pad the sequences\n",
        "    pad_seq = pad_sequences(seq, padding= 'post', maxlen=max_len)\n",
        "\n",
        "    # make predictions\n",
        "    pred_prob = model_conv.predict(pad_seq)\n",
        "    classes = np.array(classify(pred_prob, 0.5))\n",
        "    return classes"
      ],
      "execution_count": 113,
      "outputs": []
    },
    {
      "cell_type": "code",
      "metadata": {
        "colab": {
          "base_uri": "https://localhost:8080/"
        },
        "id": "heyGfnPXiqaX",
        "outputId": "fda48870-1e81-4d5f-f2df-0eb072407d37"
      },
      "source": [
        "r = predict_tag_CNN(\"I love iphone\")\n",
        "print(r)"
      ],
      "execution_count": 114,
      "outputs": [
        {
          "output_type": "stream",
          "text": [
            "[0]\n"
          ],
          "name": "stdout"
        }
      ]
    },
    {
      "cell_type": "code",
      "metadata": {
        "id": "_X3U0vrSiydc"
      },
      "source": [
        "test_cnn = test\n",
        "y_pred = []\n",
        "for i in test_cnn['tweet']:\n",
        "    if predict_tag(i)==1:\n",
        "        y_pred.append(1)\n",
        "    else:\n",
        "        y_pred.append(0)\n",
        "\n",
        "test_cnn['label'] = y_pred"
      ],
      "execution_count": 153,
      "outputs": []
    },
    {
      "cell_type": "code",
      "metadata": {
        "id": "-lag9GHijkgl"
      },
      "source": [
        "test_cnn['label'] = y_pred"
      ],
      "execution_count": 154,
      "outputs": []
    },
    {
      "cell_type": "code",
      "metadata": {
        "id": "Y_N2qOwNmA6q"
      },
      "source": [
        "test_cnn.drop(['tweet'], axis =1,inplace=True)"
      ],
      "execution_count": 155,
      "outputs": []
    },
    {
      "cell_type": "code",
      "metadata": {
        "id": "VF3nnd8MmHot"
      },
      "source": [
        "test_cnn.to_csv('/content/drive/MyDrive/RNN ASSIGNMENT DATASET/resulted_cnn.csv', index = False)"
      ],
      "execution_count": 158,
      "outputs": []
    },
    {
      "cell_type": "code",
      "metadata": {
        "id": "nK0DKmSgmRK4"
      },
      "source": [
        ""
      ],
      "execution_count": null,
      "outputs": []
    }
  ]
}